{
 "cells": [
  {
   "cell_type": "markdown",
   "id": "cc12cb80",
   "metadata": {},
   "source": [
    "# lesson 1"
   ]
  },
  {
   "cell_type": "markdown",
   "id": "e29fec86",
   "metadata": {},
   "source": [
    "3. Write a program that reads a positive integer, n, from the user and then displays the sum of all of the integers from 1 to n. The sum of the first n positive integers can be\n",
    "\n",
    "$$S = \\frac{n(n+1)}{2}$$"
   ]
  },
  {
   "cell_type": "code",
   "execution_count": 1,
   "id": "d9ba8c15",
   "metadata": {},
   "outputs": [],
   "source": [
    "def mysum(n : int) -> int :\n",
    "    if n < 1:\n",
    "        raise Exception(\"n is not positive number\")\n",
    "    return int(n * (n + 1) / 2)"
   ]
  },
  {
   "cell_type": "code",
   "execution_count": 2,
   "id": "49ac78dd",
   "metadata": {},
   "outputs": [
    {
     "data": {
      "text/plain": [
       "1"
      ]
     },
     "execution_count": 2,
     "metadata": {},
     "output_type": "execute_result"
    }
   ],
   "source": [
    "mysum(1)"
   ]
  },
  {
   "cell_type": "code",
   "execution_count": 3,
   "id": "e1e9808d",
   "metadata": {},
   "outputs": [
    {
     "data": {
      "text/plain": [
       "55"
      ]
     },
     "execution_count": 3,
     "metadata": {},
     "output_type": "execute_result"
    }
   ],
   "source": [
    "mysum(10)"
   ]
  },
  {
   "cell_type": "code",
   "execution_count": 4,
   "id": "b677d63d",
   "metadata": {},
   "outputs": [
    {
     "ename": "Exception",
     "evalue": "n is not positive number",
     "output_type": "error",
     "traceback": [
      "\u001b[1;31m---------------------------------------------------------------------------\u001b[0m",
      "\u001b[1;31mException\u001b[0m                                 Traceback (most recent call last)",
      "Cell \u001b[1;32mIn [4], line 1\u001b[0m\n\u001b[1;32m----> 1\u001b[0m \u001b[43mmysum\u001b[49m\u001b[43m(\u001b[49m\u001b[38;5;241;43m-\u001b[39;49m\u001b[38;5;241;43m1\u001b[39;49m\u001b[43m)\u001b[49m\n",
      "Cell \u001b[1;32mIn [1], line 3\u001b[0m, in \u001b[0;36mmysum\u001b[1;34m(n)\u001b[0m\n\u001b[0;32m      1\u001b[0m \u001b[38;5;28;01mdef\u001b[39;00m \u001b[38;5;21mmysum\u001b[39m(n : \u001b[38;5;28mint\u001b[39m) \u001b[38;5;241m-\u001b[39m\u001b[38;5;241m>\u001b[39m \u001b[38;5;28mint\u001b[39m :\n\u001b[0;32m      2\u001b[0m     \u001b[38;5;28;01mif\u001b[39;00m n \u001b[38;5;241m<\u001b[39m \u001b[38;5;241m1\u001b[39m:\n\u001b[1;32m----> 3\u001b[0m         \u001b[38;5;28;01mraise\u001b[39;00m \u001b[38;5;167;01mException\u001b[39;00m(\u001b[38;5;124m\"\u001b[39m\u001b[38;5;124mn is not positive number\u001b[39m\u001b[38;5;124m\"\u001b[39m)\n\u001b[0;32m      4\u001b[0m     \u001b[38;5;28;01mreturn\u001b[39;00m \u001b[38;5;28mint\u001b[39m(n \u001b[38;5;241m*\u001b[39m (n \u001b[38;5;241m+\u001b[39m \u001b[38;5;241m1\u001b[39m) \u001b[38;5;241m/\u001b[39m \u001b[38;5;241m2\u001b[39m)\n",
      "\u001b[1;31mException\u001b[0m: n is not positive number"
     ]
    }
   ],
   "source": [
    "mysum(-1)"
   ]
  },
  {
   "cell_type": "code",
   "execution_count": null,
   "id": "988942a1",
   "metadata": {},
   "outputs": [],
   "source": []
  },
  {
   "cell_type": "markdown",
   "id": "8e8b5db6",
   "metadata": {},
   "source": [
    "11. Develop a program that reads a four-digit integer from the user and displays the sum of its digits. For example, if the user enters 3141 then your program should display 3 + 1 + 4 + 1 = 9"
   ]
  },
  {
   "cell_type": "code",
   "execution_count": 5,
   "id": "e14e13dc",
   "metadata": {},
   "outputs": [],
   "source": [
    "def calc(n : int) -> int:\n",
    "    if n < 1000 or n > 9999:\n",
    "        raise Exception(\"n should consist of 4 digits\")\n",
    "    res = 0\n",
    "    s = str(n)\n",
    "    for i in range(4):\n",
    "        res += int(s[i])\n",
    "    return res"
   ]
  },
  {
   "cell_type": "code",
   "execution_count": 6,
   "id": "41eb566e",
   "metadata": {},
   "outputs": [
    {
     "data": {
      "text/plain": [
       "4"
      ]
     },
     "execution_count": 6,
     "metadata": {},
     "output_type": "execute_result"
    }
   ],
   "source": [
    "calc(1111)"
   ]
  },
  {
   "cell_type": "code",
   "execution_count": 7,
   "id": "66610132",
   "metadata": {},
   "outputs": [
    {
     "data": {
      "text/plain": [
       "10"
      ]
     },
     "execution_count": 7,
     "metadata": {},
     "output_type": "execute_result"
    }
   ],
   "source": [
    "calc(1234)"
   ]
  },
  {
   "cell_type": "code",
   "execution_count": 8,
   "id": "f2e21c39",
   "metadata": {},
   "outputs": [
    {
     "ename": "Exception",
     "evalue": "n should consist of 4 digits",
     "output_type": "error",
     "traceback": [
      "\u001b[1;31m---------------------------------------------------------------------------\u001b[0m",
      "\u001b[1;31mException\u001b[0m                                 Traceback (most recent call last)",
      "Cell \u001b[1;32mIn [8], line 1\u001b[0m\n\u001b[1;32m----> 1\u001b[0m \u001b[43mcalc\u001b[49m\u001b[43m(\u001b[49m\u001b[38;5;241;43m123\u001b[39;49m\u001b[43m)\u001b[49m\n",
      "Cell \u001b[1;32mIn [5], line 3\u001b[0m, in \u001b[0;36mcalc\u001b[1;34m(n)\u001b[0m\n\u001b[0;32m      1\u001b[0m \u001b[38;5;28;01mdef\u001b[39;00m \u001b[38;5;21mcalc\u001b[39m(n : \u001b[38;5;28mint\u001b[39m) \u001b[38;5;241m-\u001b[39m\u001b[38;5;241m>\u001b[39m \u001b[38;5;28mint\u001b[39m:\n\u001b[0;32m      2\u001b[0m     \u001b[38;5;28;01mif\u001b[39;00m n \u001b[38;5;241m<\u001b[39m \u001b[38;5;241m1000\u001b[39m \u001b[38;5;129;01mor\u001b[39;00m n \u001b[38;5;241m>\u001b[39m \u001b[38;5;241m9999\u001b[39m:\n\u001b[1;32m----> 3\u001b[0m         \u001b[38;5;28;01mraise\u001b[39;00m \u001b[38;5;167;01mException\u001b[39;00m(\u001b[38;5;124m\"\u001b[39m\u001b[38;5;124mn should consist of 4 digits\u001b[39m\u001b[38;5;124m\"\u001b[39m)\n\u001b[0;32m      4\u001b[0m     res \u001b[38;5;241m=\u001b[39m \u001b[38;5;241m0\u001b[39m\n\u001b[0;32m      5\u001b[0m     s \u001b[38;5;241m=\u001b[39m \u001b[38;5;28mstr\u001b[39m(n)\n",
      "\u001b[1;31mException\u001b[0m: n should consist of 4 digits"
     ]
    }
   ],
   "source": [
    "calc(123)"
   ]
  },
  {
   "cell_type": "code",
   "execution_count": null,
   "id": "723d8fa7",
   "metadata": {},
   "outputs": [],
   "source": [
    "calc(12345)"
   ]
  },
  {
   "cell_type": "code",
   "execution_count": null,
   "id": "a1308474",
   "metadata": {},
   "outputs": [],
   "source": []
  },
  {
   "cell_type": "markdown",
   "id": "0c8de425",
   "metadata": {},
   "source": [
    "# lesson 2"
   ]
  },
  {
   "cell_type": "markdown",
   "id": "358cabc8",
   "metadata": {},
   "source": [
    "1\\. Write a program that reads an integer from the user. Then your program should display a message indicating whether the integer is even or odd."
   ]
  },
  {
   "cell_type": "code",
   "execution_count": 9,
   "id": "620c7936",
   "metadata": {},
   "outputs": [],
   "source": [
    "def check_num(n : int) -> str:\n",
    "    if type(n) != int:\n",
    "        raise Exception(\"n is not integer\")\n",
    "    message = 'Your number is ZERO, which is NOT even and odd'\n",
    "    if n != 0 and n % 2 == 0:\n",
    "        message = \"Your numbe is EVEN\"\n",
    "    elif n != 0 and n % 2 == 1:\n",
    "        message = \"Your numbe is ODD\"\n",
    "    return message"
   ]
  },
  {
   "cell_type": "code",
   "execution_count": 10,
   "id": "e52b1642",
   "metadata": {},
   "outputs": [
    {
     "data": {
      "text/plain": [
       "'Your number is ZERO, which is NOT even and odd'"
      ]
     },
     "execution_count": 10,
     "metadata": {},
     "output_type": "execute_result"
    }
   ],
   "source": [
    "check_num(0)"
   ]
  },
  {
   "cell_type": "code",
   "execution_count": 11,
   "id": "c97d0b05",
   "metadata": {},
   "outputs": [
    {
     "data": {
      "text/plain": [
       "'Your numbe is ODD'"
      ]
     },
     "execution_count": 11,
     "metadata": {},
     "output_type": "execute_result"
    }
   ],
   "source": [
    "check_num(1)"
   ]
  },
  {
   "cell_type": "code",
   "execution_count": 12,
   "id": "88a677b1",
   "metadata": {},
   "outputs": [
    {
     "data": {
      "text/plain": [
       "'Your numbe is EVEN'"
      ]
     },
     "execution_count": 12,
     "metadata": {},
     "output_type": "execute_result"
    }
   ],
   "source": [
    "check_num(2)"
   ]
  },
  {
   "cell_type": "code",
   "execution_count": 13,
   "id": "5ba54ad6",
   "metadata": {},
   "outputs": [
    {
     "ename": "Exception",
     "evalue": "n is not integer",
     "output_type": "error",
     "traceback": [
      "\u001b[1;31m---------------------------------------------------------------------------\u001b[0m",
      "\u001b[1;31mException\u001b[0m                                 Traceback (most recent call last)",
      "Cell \u001b[1;32mIn [13], line 1\u001b[0m\n\u001b[1;32m----> 1\u001b[0m \u001b[43mcheck_num\u001b[49m\u001b[43m(\u001b[49m\u001b[38;5;241;43m1.1\u001b[39;49m\u001b[43m)\u001b[49m\n",
      "Cell \u001b[1;32mIn [9], line 3\u001b[0m, in \u001b[0;36mcheck_num\u001b[1;34m(n)\u001b[0m\n\u001b[0;32m      1\u001b[0m \u001b[38;5;28;01mdef\u001b[39;00m \u001b[38;5;21mcheck_num\u001b[39m(n : \u001b[38;5;28mint\u001b[39m) \u001b[38;5;241m-\u001b[39m\u001b[38;5;241m>\u001b[39m \u001b[38;5;28mstr\u001b[39m:\n\u001b[0;32m      2\u001b[0m     \u001b[38;5;28;01mif\u001b[39;00m \u001b[38;5;28mtype\u001b[39m(n) \u001b[38;5;241m!=\u001b[39m \u001b[38;5;28mint\u001b[39m:\n\u001b[1;32m----> 3\u001b[0m         \u001b[38;5;28;01mraise\u001b[39;00m \u001b[38;5;167;01mException\u001b[39;00m(\u001b[38;5;124m\"\u001b[39m\u001b[38;5;124mn is not integer\u001b[39m\u001b[38;5;124m\"\u001b[39m)\n\u001b[0;32m      4\u001b[0m     message \u001b[38;5;241m=\u001b[39m \u001b[38;5;124m'\u001b[39m\u001b[38;5;124mYour number is ZERO, which is NOT even and odd\u001b[39m\u001b[38;5;124m'\u001b[39m\n\u001b[0;32m      5\u001b[0m     \u001b[38;5;28;01mif\u001b[39;00m n \u001b[38;5;241m!=\u001b[39m \u001b[38;5;241m0\u001b[39m \u001b[38;5;129;01mand\u001b[39;00m n \u001b[38;5;241m%\u001b[39m \u001b[38;5;241m2\u001b[39m \u001b[38;5;241m==\u001b[39m \u001b[38;5;241m0\u001b[39m:\n",
      "\u001b[1;31mException\u001b[0m: n is not integer"
     ]
    }
   ],
   "source": [
    "check_num(1.1)"
   ]
  },
  {
   "cell_type": "code",
   "execution_count": null,
   "id": "05c556e1",
   "metadata": {},
   "outputs": [],
   "source": []
  },
  {
   "cell_type": "markdown",
   "id": "9cac9345",
   "metadata": {},
   "source": [
    "11\\. The value of $\\pi$ can be approximated by the following infinite series:\n",
    "$$\n",
    "\\pi \\approx 3\n",
    "+ \\frac{4}{2\\times 3\\times 4}\n",
    "- \\frac{4}{4\\times 5\\times 6}\n",
    "+ \\frac{4}{6\\times 7\\times 8}\n",
    "- \\frac{4}{8\\times 9\\times 10}\n",
    "+ \\frac{4}{10\\times 11\\times 12}\n",
    "- \\cdots\n",
    "$$\n",
    "Write a program that displays 15 approximations of $\\pi$. The first approximation should make use of only the first term from the infinite series. Each additional approximation displayed by your program should include one more term in the series, making it a better approximation of $\\pi$ than any of the approximations displayed previously."
   ]
  },
  {
   "cell_type": "code",
   "execution_count": 14,
   "id": "a2ac1485",
   "metadata": {},
   "outputs": [],
   "source": [
    "def calc_pi(n : int) -> float:\n",
    "    res = 3\n",
    "    for i in range(1, n+1):\n",
    "        tmp = i*2\n",
    "        res += pow(-1, i+1) * 4 / (tmp * (tmp+1) * (tmp+2))\n",
    "    return res"
   ]
  },
  {
   "cell_type": "code",
   "execution_count": 15,
   "id": "dca74669",
   "metadata": {},
   "outputs": [
    {
     "name": "stdout",
     "output_type": "stream",
     "text": [
      "approximation 1 \t 3.1666666666666665\n",
      "approximation 2 \t 3.1333333333333333\n",
      "approximation 3 \t 3.145238095238095\n",
      "approximation 4 \t 3.1396825396825396\n",
      "approximation 5 \t 3.1427128427128426\n",
      "approximation 6 \t 3.1408813408813407\n",
      "approximation 7 \t 3.142071817071817\n",
      "approximation 8 \t 3.1412548236077646\n",
      "approximation 9 \t 3.141839618929402\n",
      "approximation 10 \t 3.1414067184965018\n",
      "approximation 11 \t 3.1417360992606653\n",
      "approximation 12 \t 3.141479689004255\n",
      "approximation 13 \t 3.1416831892077552\n",
      "approximation 14 \t 3.1415189855952756\n",
      "approximation 15 \t 3.141653394197426\n"
     ]
    }
   ],
   "source": [
    "for i in range(1, 15+1):\n",
    "    print(\"approximation\", i, \"\\t\", calc_pi(i))"
   ]
  },
  {
   "cell_type": "code",
   "execution_count": null,
   "id": "3f10ed0c",
   "metadata": {},
   "outputs": [],
   "source": []
  },
  {
   "cell_type": "markdown",
   "id": "18a37bb0",
   "metadata": {},
   "source": [
    "# lesson 3"
   ]
  },
  {
   "cell_type": "markdown",
   "id": "370ea125",
   "metadata": {},
   "source": [
    "3\\. Many people do not use capital letters correctly, especially when typing on small\n",
    "devices like smart phones. To help address this situation, you will create a function\n",
    "that takes a string as its only parameter and returns a new copy of the string that has\n",
    "been correctly capitalized. In particular, your function must:\n",
    "\n",
    "- Capitalize the first non-space character in the string,\n",
    "- Capitalize the first non-space character after a period, exclamation mark or question mark, and\n",
    "- Capitalize a lowercase \"i\" if it is preceded by a space and followed by a space, period, exclamation mark, question mark or apostrophe.\n",
    "\n",
    "Implementing these transformations will correct most capitalization errors. For example, if the function is provided with the string \"what time do i have to be there? what’s the address? this time i’ll try to be on time!\" then it should return the string\n",
    "\"What time do I have to be there? What’s the address? This time I’ll try to be on time!\". Include a main program that reads a string from the user, capitalizes it using your function, and displays the result.\n"
   ]
  },
  {
   "cell_type": "code",
   "execution_count": 16,
   "id": "3bad1f63",
   "metadata": {},
   "outputs": [],
   "source": [
    "def correct_string(s : str) -> str:\n",
    "    res = ''\n",
    "    l = len(s)\n",
    "    for i in range(l):\n",
    "        need_capitalize = False\n",
    "        \n",
    "        if   i == 0 and s[i] != ' ':\n",
    "            need_capitalize = True\n",
    "        elif i == 1 and s[i] != ' ' and s[i-1] == ' ':\n",
    "            need_capitalize = True\n",
    "        elif i > 2 and i < l-2:\n",
    "            if (s[i] == 'i' and s[i-1] == ' ' and s[i+1] in [' ', \"’\"]) or\\\n",
    "               (s[i] != ' ' and s[i-1] in [' ', '.', '!', '?'] and s[i-2] in ['.', '!', '?']):\n",
    "                need_capitalize = True\n",
    "        elif i == l-1 and s[i] == 'i':\n",
    "            need_capitalize = True\n",
    "        \n",
    "        if need_capitalize:\n",
    "            res += s[i].capitalize()\n",
    "        else:\n",
    "            res += s[i]\n",
    "    return res"
   ]
  },
  {
   "cell_type": "code",
   "execution_count": 17,
   "id": "2ee697fc",
   "metadata": {},
   "outputs": [],
   "source": [
    "test_str  = 'what time do i have to be there? what’s the address? this time i’ll try to be on time!'\n",
    "right_str = \"What time do I have to be there? What’s the address? This time I’ll try to be on time!\""
   ]
  },
  {
   "cell_type": "code",
   "execution_count": 18,
   "id": "793b6df2",
   "metadata": {},
   "outputs": [
    {
     "name": "stdout",
     "output_type": "stream",
     "text": [
      "What time do I have to be there? What’s the address? This time I’ll try to be on time!\n",
      "What time do I have to be there? What’s the address? This time I’ll try to be on time!\n"
     ]
    }
   ],
   "source": [
    "print(correct_string(test_str))\n",
    "print(right_str)"
   ]
  },
  {
   "cell_type": "code",
   "execution_count": 19,
   "id": "c13dbdb8",
   "metadata": {},
   "outputs": [
    {
     "data": {
      "text/plain": [
       "True"
      ]
     },
     "execution_count": 19,
     "metadata": {},
     "output_type": "execute_result"
    }
   ],
   "source": [
    "correct_string(test_str) == right_str"
   ]
  },
  {
   "cell_type": "code",
   "execution_count": null,
   "id": "7cacc5a6",
   "metadata": {},
   "outputs": [],
   "source": []
  },
  {
   "cell_type": "markdown",
   "id": "0f5a9974",
   "metadata": {},
   "source": [
    "2\\. Words like first, second and third are referred to as ordinal numbers. In this exercise, you will write a function that takes an integer as its only parameter and returns a string containing the appropriate English ordinal number as its only result. Your function must handle the integers between 1 and 12 (inclusive). It should return an\n",
    "empty string if the function is called with an argument outside of this range. Include\n",
    "a main program that demonstrates your function by displaying each integer from 1 to 12 and its ordinal number."
   ]
  },
  {
   "cell_type": "code",
   "execution_count": 20,
   "id": "d94d0a71",
   "metadata": {},
   "outputs": [],
   "source": [
    "def word(n : int) -> str:\n",
    "    d = {1  : 'one',\n",
    "         2  : 'two', \n",
    "         3  : 'three', \n",
    "         4  : 'four', \n",
    "         5  : 'five',\n",
    "         6  : 'six',\n",
    "         7  : 'seven',\n",
    "         8  : 'eight',\n",
    "         9  : 'nine',\n",
    "         10 : 'ten',\n",
    "         11 : 'eleven',\n",
    "         12 : 'twelve'}\n",
    "    res = ''\n",
    "    \n",
    "    try:\n",
    "        res = d[n]\n",
    "    except:\n",
    "        pass\n",
    "    \n",
    "    return res"
   ]
  },
  {
   "cell_type": "code",
   "execution_count": 21,
   "id": "b5956212",
   "metadata": {},
   "outputs": [
    {
     "name": "stdout",
     "output_type": "stream",
     "text": [
      "n 0 \t \n",
      "n 1 \t one\n",
      "n 2 \t two\n",
      "n 3 \t three\n",
      "n 4 \t four\n",
      "n 5 \t five\n",
      "n 6 \t six\n",
      "n 7 \t seven\n",
      "n 8 \t eight\n",
      "n 9 \t nine\n",
      "n 10 \t ten\n",
      "n 11 \t eleven\n",
      "n 12 \t twelve\n",
      "n 13 \t \n"
     ]
    }
   ],
   "source": [
    "for i in range(14):\n",
    "    print('n', i, '\\t', word(i))"
   ]
  },
  {
   "cell_type": "code",
   "execution_count": null,
   "id": "8d797a60",
   "metadata": {},
   "outputs": [],
   "source": []
  },
  {
   "cell_type": "markdown",
   "id": "f455c6cc",
   "metadata": {},
   "source": [
    "# lesson 4"
   ]
  },
  {
   "cell_type": "code",
   "execution_count": 22,
   "id": "8bfe429e",
   "metadata": {},
   "outputs": [],
   "source": [
    "import numpy as np"
   ]
  },
  {
   "cell_type": "markdown",
   "id": "d6d9d744",
   "metadata": {},
   "source": [
    "2\\. Write a program that creates a NumPy array $x$ containing 11 equally spaced values from 0 to $2\\pi$. Now compute two new arrays: $s=\\sin x$ and $c=\\cos x$. Finally compute and print the result of expression $s^2 + c^2$"
   ]
  },
  {
   "cell_type": "code",
   "execution_count": 23,
   "id": "bc0967e1",
   "metadata": {},
   "outputs": [],
   "source": [
    "arr = np.arange(0, 2 * np.pi, 2 * np.pi / 11)\n",
    "s = np.sin(arr)\n",
    "c = np.cos(arr)\n",
    "res = s**2 + c**2"
   ]
  },
  {
   "cell_type": "code",
   "execution_count": 24,
   "id": "62bb76f6",
   "metadata": {},
   "outputs": [
    {
     "data": {
      "text/plain": [
       "array([1., 1., 1., 1., 1., 1., 1., 1., 1., 1., 1.])"
      ]
     },
     "execution_count": 24,
     "metadata": {},
     "output_type": "execute_result"
    }
   ],
   "source": [
    "res"
   ]
  },
  {
   "cell_type": "code",
   "execution_count": null,
   "id": "b679b480",
   "metadata": {},
   "outputs": [],
   "source": []
  },
  {
   "cell_type": "markdown",
   "id": "f336e9d1",
   "metadata": {},
   "source": [
    "3\\. Create a program that reads president heights form a file `presidents.csv` and store them into a NumPy array. Execute the section above to get this file in your working directory. Read only heights, without names. Then compute and print the smallest, the biggest and the mean height. "
   ]
  },
  {
   "cell_type": "code",
   "execution_count": 25,
   "id": "02b6c308",
   "metadata": {},
   "outputs": [],
   "source": [
    "# Run this section to get a file with US presidens heights\n",
    "file_name = \"presidents.csv\"\n",
    "\n",
    "txt = ['Garfield, 183', 'Obama, 185', 'Bush, 182', 'Reagan, 185', 'Kennedy, 185', 'Grant, 173', 'Taft, 182', 'Johnson, 192', 'Coolidge, 178', 'Arthur, 188', 'Bush, 188', 'Wilson, 180', 'Monroe, 183', 'Buchanan, 183', 'Roosevelt, 188', 'Johnson, 178', 'Cleveland, 180', 'Jackson, 185', 'McKinley, 170', 'Harrison, 168', 'Polk, 173', 'Taylor, 173', 'Truman, 175', 'Harding, 183', 'Buren, 168', 'Ford, 183', 'Clinton, 188', 'Carter, 177', 'Q_Adams, 171', 'Trump, 191', 'Jefferson, 189', 'Nixon, 182', 'Pierce, 178', 'Washington, 188', 'Lincoln, 193', 'Madison, 163', 'Hoover, 182', 'Roosevelt, 178', 'Adams, 170', 'Tyler, 183', 'Fillmore, 175', 'Harrison, 173', 'Hayes, 174', 'Eisenhower, 179']\n",
    "with open(file_name, \"w\") as f:\n",
    "    for s in txt:\n",
    "        f.write(s + '\\n')"
   ]
  },
  {
   "cell_type": "code",
   "execution_count": 26,
   "id": "db42bd87",
   "metadata": {},
   "outputs": [],
   "source": [
    "file_name = \"presidents.csv\"\n",
    "\n",
    "heighs = np.array([])\n",
    "with open(file_name, 'r') as f:\n",
    "    for line in f:\n",
    "        heighs = np.append(heighs, [int(line.split()[1])])"
   ]
  },
  {
   "cell_type": "code",
   "execution_count": 27,
   "id": "0d011a59",
   "metadata": {},
   "outputs": [
    {
     "name": "stdout",
     "output_type": "stream",
     "text": [
      "smallest: \t 163.0\n",
      "biggest: \t 193.0\n",
      "mean: \t\t 180.11363636363637\n"
     ]
    }
   ],
   "source": [
    "print(\"smallest: \\t\", np.min(heighs))\n",
    "print(\"biggest: \\t\", np.max(heighs))\n",
    "print(\"mean: \\t\\t\", np.mean(heighs))"
   ]
  }
 ],
 "metadata": {
  "kernelspec": {
   "display_name": "Python 3 (ipykernel)",
   "language": "python",
   "name": "python3"
  },
  "language_info": {
   "codemirror_mode": {
    "name": "ipython",
    "version": 3
   },
   "file_extension": ".py",
   "mimetype": "text/x-python",
   "name": "python",
   "nbconvert_exporter": "python",
   "pygments_lexer": "ipython3",
   "version": "3.9.13"
  }
 },
 "nbformat": 4,
 "nbformat_minor": 5
}
