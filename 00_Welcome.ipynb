{
  "nbformat": 4,
  "nbformat_minor": 0,
  "metadata": {
    "colab": {
      "name": "00_Welcome.ipynb",
      "provenance": [],
      "collapsed_sections": [],
      "include_colab_link": true
    },
    "kernelspec": {
      "display_name": "Python 3",
      "language": "python",
      "name": "python3"
    },
    "language_info": {
      "codemirror_mode": {
        "name": "ipython",
        "version": 3
      },
      "file_extension": ".py",
      "mimetype": "text/x-python",
      "name": "python",
      "nbconvert_exporter": "python",
      "pygments_lexer": "ipython3",
      "version": "3.8.6"
    }
  },
  "cells": [
    {
      "cell_type": "markdown",
      "metadata": {
        "id": "view-in-github",
        "colab_type": "text"
      },
      "source": [
        "<a href=\"https://colab.research.google.com/github/kupav/data-sc-intro/blob/main/00_Welcome.ipynb\" target=\"_parent\"><img src=\"https://colab.research.google.com/assets/colab-badge.svg\" alt=\"Open In Colab\"/></a>"
      ]
    },
    {
      "cell_type": "markdown",
      "metadata": {
        "id": "3-8Gf9a7pM6s"
      },
      "source": [
        "# 00 Welcome!\n",
        "\n",
        "Part of [\"Introduction to Data Science\" course](https://github.com/kupav/data-sc-intro) by Pavel Kuptsov, [kupav@mail.ru](mailto:kupav@mail.ru)"
      ]
    },
    {
      "cell_type": "markdown",
      "metadata": {
        "id": "AII1GKCvpq3-"
      },
      "source": [
        "This is just a test. Put the cursor to the next cell and press Shit + Enter on the keyboard to run a peace of Python code. You will see some text as a result. If no errors appear everything's ready (highly likely) for learning the course."
      ]
    },
    {
      "cell_type": "code",
      "metadata": {
        "id": "RqOtChmOpM6t"
      },
      "source": [
        "import numpy as np\n",
        "\n",
        "for i, a in enumerate([\"Hello\", \"every\", \"body\"]):\n",
        "    if i > 0:\n",
        "        print(\" \", sep='', end='')\n",
        "    print(a, sep='', end='')\n",
        "print(\".\")\n",
        "\n",
        "x = np.arccos(-1)\n",
        "print(f\"Did you know that pi is equal to {x}?\")"
      ],
      "execution_count": null,
      "outputs": []
    }
  ]
}