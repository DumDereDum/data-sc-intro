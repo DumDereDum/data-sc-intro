{
 "cells": [
  {
   "cell_type": "markdown",
   "id": "6bb9b77b",
   "metadata": {},
   "source": [
    "# lesson 1"
   ]
  },
  {
   "cell_type": "markdown",
   "id": "b1c782db",
   "metadata": {},
   "source": [
    "1\\. Given the set of linear equations\n",
    "$$ 2 x_1 + 2 x_3 = -2 $$\n",
    "$$ 2 x_1 - 2 x_3 =  6 $$\n",
    "$$ 3 x_2 - x_1 = -1 $$\n",
    "derive formulas for $x_1$, $x_2$ and $x_3$ (not necessary in this order) and write a Python program to compute the solution."
   ]
  },
  {
   "cell_type": "code",
   "execution_count": 117,
   "id": "897ed422",
   "metadata": {},
   "outputs": [],
   "source": [
    "import numpy as np"
   ]
  },
  {
   "cell_type": "code",
   "execution_count": 118,
   "id": "3796a75e",
   "metadata": {},
   "outputs": [],
   "source": [
    "def solve_system(s):\n",
    "    N = len(s)\n",
    "    # k idx is fun staff, I am lazy for finding needful line, so I made this and it works :)\n",
    "    for k in range(N):\n",
    "        for i in range(N):\n",
    "            if s[i][i]==0:\n",
    "                continue\n",
    "            for j in range(i+1, N):\n",
    "                s[j] -= s[i] * (s[j][i]/s[i][i])\n",
    "\n",
    "        for i in range(N-1, -1, -1):\n",
    "            if s[i][i]==0:\n",
    "                continue\n",
    "            for j in range(i-1, -1, -1):\n",
    "                s[j] -= s[i] * (s[j][i]/s[i][i])\n",
    "    \n",
    "    x = np.zeros(N)\n",
    "    for i in range(N):\n",
    "        x[i] = s[i][N] / s[i][i]\n",
    "    return x"
   ]
  },
  {
   "cell_type": "code",
   "execution_count": 119,
   "id": "874c310c",
   "metadata": {},
   "outputs": [],
   "source": [
    "M = np.array(\n",
    "    [[ 2.0, 0.0, 2.0,-2.0],\n",
    "     [ 2.0, 0.0,-2.0, 6.0],\n",
    "     [-1.0, 3.0, 0.0,-1.0]])"
   ]
  },
  {
   "cell_type": "code",
   "execution_count": 120,
   "id": "78c45380",
   "metadata": {},
   "outputs": [
    {
     "data": {
      "text/plain": [
       "array([ 1.,  0., -2.])"
      ]
     },
     "execution_count": 120,
     "metadata": {},
     "output_type": "execute_result"
    }
   ],
   "source": [
    "solve_system(M)"
   ]
  },
  {
   "cell_type": "code",
   "execution_count": null,
   "id": "88a81375",
   "metadata": {},
   "outputs": [],
   "source": []
  },
  {
   "cell_type": "markdown",
   "id": "0363db07",
   "metadata": {},
   "source": [
    "4\\. Draw these three vectors \n",
    "$$\n",
    "  \\vec v_1 = (0.98480775, 0.17364818)\n",
    "$$\n",
    "\n",
    "$$\n",
    "  \\vec v_2 = (-0.64278761,  0.76604444)\n",
    "$$\n",
    "\n",
    "$$\n",
    "  \\vec v_3 = (-0.34202014, -0.93969262)\n",
    "$$\n",
    "\n",
    "to demonstrate that their sum is zero. Use function `draw_vector` defined \n",
    "above or create your own better version if you like."
   ]
  },
  {
   "cell_type": "code",
   "execution_count": 122,
   "id": "3679d7fe",
   "metadata": {},
   "outputs": [],
   "source": [
    "import matplotlib.pyplot as plt"
   ]
  },
  {
   "cell_type": "code",
   "execution_count": 124,
   "id": "8bed0cb8",
   "metadata": {},
   "outputs": [],
   "source": [
    "def draw_vector(ax, label, color, vec, orig):\n",
    "    \"\"\"\n",
    "    Draw a vector\n",
    "    -------------\n",
    "    ax : axes\n",
    "        The axes to draw\n",
    "    label : str\n",
    "        The label of the vector\n",
    "    color : str\n",
    "        Color specification\n",
    "    vec : list of two comopnents\n",
    "        The vector - shifts dx and dy from orig\n",
    "    orig : list of two components\n",
    "        The vector begining point\n",
    "    \"\"\"\n",
    "    \n",
    "    vec_end = [orig[0] + vec[0], orig[1] + vec[1]] \n",
    "    ax.annotate(\"\", \n",
    "                xytext=orig,  # arrow begining point\n",
    "                xy=vec_end,   # arrow end point\n",
    "                arrowprops={'color': color});\n",
    "\n",
    "    # Draw a transparent circle around a label to improve visibility\n",
    "    bbox = {'facecolor':'w',\n",
    "            'edgecolor': 'w',\n",
    "            'boxstyle': 'circle',\n",
    "            'alpha': 0.8}\n",
    "\n",
    "    # Add a text in the middle of the arrow\n",
    "    ax.text(orig[0] + 0.5*vec[0], orig[1] + 0.5*vec[1], label,\n",
    "           fontsize=16, bbox=bbox, va='center', ha='center')"
   ]
  },
  {
   "cell_type": "code",
   "execution_count": 140,
   "id": "2b23174a",
   "metadata": {},
   "outputs": [],
   "source": [
    "v_1 = np.array([0.984807750, 0.173648180])\n",
    "v_2 = np.array([-0.64278761,  0.76604444])\n",
    "v_3 = np.array([-0.34202014, -0.93969262])"
   ]
  },
  {
   "cell_type": "code",
   "execution_count": 143,
   "id": "e85eef84",
   "metadata": {},
   "outputs": [
    {
     "data": {
      "image/png": "[encoded data removed]",
      "text/plain": [
       "<Figure size 500x500 with 1 Axes>"
      ]
     },
     "metadata": {},
     "output_type": "display_data"
    }
   ],
   "source": [
    "fig, ax = plt.subplots(figsize=(5,5))\n",
    "\n",
    "ax.set_xlim([-1, 1])\n",
    "ax.set_ylim([-1, 1])\n",
    "\n",
    "draw_vector(ax, label=r'$\\vec v1$', color='C0', vec=v_1, orig=[0,0])\n",
    "draw_vector(ax, label=r'$\\vec v2$', color='C1', vec=v_2, orig=[0,0])\n",
    "draw_vector(ax, label=r'$\\vec v3$', color='C2', vec=v_3, orig=[0,0])\n",
    "\n",
    "ax.grid()"
   ]
  },
  {
   "cell_type": "code",
   "execution_count": 147,
   "id": "bfe6879e",
   "metadata": {},
   "outputs": [
    {
     "data": {
      "image/png": "[encoded data removed]",
      "text/plain": [
       "<Figure size 500x500 with 1 Axes>"
      ]
     },
     "metadata": {},
     "output_type": "display_data"
    }
   ],
   "source": [
    "fig, ax = plt.subplots(figsize=(5,5))\n",
    "\n",
    "ax.set_xlim([-0.1, 1])\n",
    "ax.set_ylim([-0.1, 1])\n",
    "\n",
    "draw_vector(ax, label=r'$\\vec v1$', color='C0', vec=v_1, orig=[0,0])\n",
    "draw_vector(ax, label=r'$\\vec v2$', color='C1', vec=v_2, orig=v_1)\n",
    "draw_vector(ax, label=r'$\\vec v3$', color='C2', vec=v_3, orig=v_1+v_2)\n",
    "\n",
    "ax.grid()"
   ]
  },
  {
   "cell_type": "code",
   "execution_count": null,
   "id": "f3fa0af0",
   "metadata": {},
   "outputs": [],
   "source": []
  },
  {
   "cell_type": "markdown",
   "id": "4bc77fdc",
   "metadata": {},
   "source": [
    "# lesson 2"
   ]
  },
  {
   "cell_type": "markdown",
   "id": "f7165b8b",
   "metadata": {},
   "source": [
    "7\\. Create functions that perform left and right multiplication of a matrix by a diagonal matrix."
   ]
  },
  {
   "cell_type": "code",
   "execution_count": 190,
   "id": "d5cf76da",
   "metadata": {},
   "outputs": [],
   "source": [
    "def diag_mult_left(M, D):\n",
    "    N = len(M)\n",
    "    res = np.zeros((N, N))\n",
    "    for i in range(N):\n",
    "        for j in range(N):\n",
    "            res[i][j] = M[i][j] * D[i][i]\n",
    "    return res"
   ]
  },
  {
   "cell_type": "code",
   "execution_count": 191,
   "id": "48bab323",
   "metadata": {},
   "outputs": [],
   "source": [
    "def diag_mult_right(M, D):\n",
    "    N = len(M)\n",
    "    res = np.zeros((N, N))\n",
    "    for i in range(N):\n",
    "        for j in range(N):\n",
    "            res[j][i] = M[j][i] * D[i][i]\n",
    "    return res"
   ]
  },
  {
   "cell_type": "code",
   "execution_count": 197,
   "id": "a1ceaed2",
   "metadata": {},
   "outputs": [],
   "source": [
    "M = np.array([\n",
    "    [1, 2, 3],\n",
    "    [4, 5, 6],\n",
    "    [7, 8, 9]\n",
    "])\n",
    "D1 = np.array([\n",
    "    [1, 0, 0],\n",
    "    [0, 1, 0], \n",
    "    [0, 0, 1]\n",
    "])\n",
    "D2 = np.array([\n",
    "    [2, 0, 0],\n",
    "    [0, 2, 0], \n",
    "    [0, 0, 2]\n",
    "])\n",
    "D3 = np.array([\n",
    "    [1, 0, 0],\n",
    "    [0, 2, 0], \n",
    "    [0, 0, 3]\n",
    "])"
   ]
  },
  {
   "cell_type": "code",
   "execution_count": 198,
   "id": "93fdcf66",
   "metadata": {},
   "outputs": [
    {
     "data": {
      "text/plain": [
       "array([[1., 2., 3.],\n",
       "       [4., 5., 6.],\n",
       "       [7., 8., 9.]])"
      ]
     },
     "execution_count": 198,
     "metadata": {},
     "output_type": "execute_result"
    }
   ],
   "source": [
    "diag_mult_left(M, D1)"
   ]
  },
  {
   "cell_type": "code",
   "execution_count": 199,
   "id": "8925e4bd",
   "metadata": {},
   "outputs": [
    {
     "data": {
      "text/plain": [
       "array([[ 2.,  4.,  6.],\n",
       "       [ 8., 10., 12.],\n",
       "       [14., 16., 18.]])"
      ]
     },
     "execution_count": 199,
     "metadata": {},
     "output_type": "execute_result"
    }
   ],
   "source": [
    "diag_mult_left(M, D2)"
   ]
  },
  {
   "cell_type": "code",
   "execution_count": 200,
   "id": "c01061f5",
   "metadata": {},
   "outputs": [
    {
     "data": {
      "text/plain": [
       "array([[ 1.,  2.,  3.],\n",
       "       [ 8., 10., 12.],\n",
       "       [21., 24., 27.]])"
      ]
     },
     "execution_count": 200,
     "metadata": {},
     "output_type": "execute_result"
    }
   ],
   "source": [
    "diag_mult_left(M, D3)"
   ]
  },
  {
   "cell_type": "code",
   "execution_count": 201,
   "id": "764c20af",
   "metadata": {},
   "outputs": [
    {
     "data": {
      "text/plain": [
       "array([[ 1,  2,  3],\n",
       "       [ 8, 10, 12],\n",
       "       [21, 24, 27]])"
      ]
     },
     "execution_count": 201,
     "metadata": {},
     "output_type": "execute_result"
    }
   ],
   "source": [
    "np.matmul(D3, M)"
   ]
  },
  {
   "cell_type": "code",
   "execution_count": 202,
   "id": "f4f65130",
   "metadata": {},
   "outputs": [
    {
     "data": {
      "text/plain": [
       "array([[1., 2., 3.],\n",
       "       [4., 5., 6.],\n",
       "       [7., 8., 9.]])"
      ]
     },
     "execution_count": 202,
     "metadata": {},
     "output_type": "execute_result"
    }
   ],
   "source": [
    "diag_mult_right(M, D1)"
   ]
  },
  {
   "cell_type": "code",
   "execution_count": 203,
   "id": "c756e852",
   "metadata": {},
   "outputs": [
    {
     "data": {
      "text/plain": [
       "array([[ 2.,  4.,  6.],\n",
       "       [ 8., 10., 12.],\n",
       "       [14., 16., 18.]])"
      ]
     },
     "execution_count": 203,
     "metadata": {},
     "output_type": "execute_result"
    }
   ],
   "source": [
    "diag_mult_right(M, D2)"
   ]
  },
  {
   "cell_type": "code",
   "execution_count": 204,
   "id": "7b1e30ee",
   "metadata": {},
   "outputs": [
    {
     "data": {
      "text/plain": [
       "array([[ 1.,  4.,  9.],\n",
       "       [ 4., 10., 18.],\n",
       "       [ 7., 16., 27.]])"
      ]
     },
     "execution_count": 204,
     "metadata": {},
     "output_type": "execute_result"
    }
   ],
   "source": [
    "diag_mult_right(M, D3)"
   ]
  },
  {
   "cell_type": "code",
   "execution_count": 205,
   "id": "ed7a002a",
   "metadata": {},
   "outputs": [
    {
     "data": {
      "text/plain": [
       "array([[ 1,  4,  9],\n",
       "       [ 4, 10, 18],\n",
       "       [ 7, 16, 27]])"
      ]
     },
     "execution_count": 205,
     "metadata": {},
     "output_type": "execute_result"
    }
   ],
   "source": [
    "np.matmul(M, D3)"
   ]
  },
  {
   "cell_type": "code",
   "execution_count": null,
   "id": "1e7372a9",
   "metadata": {},
   "outputs": [],
   "source": []
  },
  {
   "cell_type": "markdown",
   "id": "bcab5857",
   "metadata": {},
   "source": [
    "8\\. Create a function that generates a zero matrix. You can not solve the problem just by calling the defined above function `matrix_diag`."
   ]
  },
  {
   "cell_type": "code",
   "execution_count": 212,
   "id": "ecd89f30",
   "metadata": {},
   "outputs": [],
   "source": [
    "def make_zero(N):\n",
    "    M = []\n",
    "    for i in range(N):\n",
    "        row = []\n",
    "        for j in range(N):\n",
    "            row.append(0.0)\n",
    "        M.append(row)\n",
    "    return M"
   ]
  },
  {
   "cell_type": "code",
   "execution_count": 213,
   "id": "295611e2",
   "metadata": {},
   "outputs": [
    {
     "data": {
      "text/plain": [
       "[[0.0, 0.0, 0.0], [0.0, 0.0, 0.0], [0.0, 0.0, 0.0]]"
      ]
     },
     "execution_count": 213,
     "metadata": {},
     "output_type": "execute_result"
    }
   ],
   "source": [
    "make_zero(3)"
   ]
  },
  {
   "cell_type": "code",
   "execution_count": null,
   "id": "aaa47f7f",
   "metadata": {},
   "outputs": [],
   "source": []
  }
 ],
 "metadata": {
  "kernelspec": {
   "display_name": "Python 3 (ipykernel)",
   "language": "python",
   "name": "python3"
  },
  "language_info": {
   "codemirror_mode": {
    "name": "ipython",
    "version": 3
   },
   "file_extension": ".py",
   "mimetype": "text/x-python",
   "name": "python",
   "nbconvert_exporter": "python",
   "pygments_lexer": "ipython3",
   "version": "3.9.13"
  }
 },
 "nbformat": 4,
 "nbformat_minor": 5
}
