{
 "cells": [
  {
   "cell_type": "markdown",
   "metadata": {},
   "source": [
    "# 13 Naive Bayes classifier\n",
    "\n",
    "Part of [\"Introduction to Data Science\" course](https://github.com/kupav/data-sc-intro) by Pavel Kuptsov, [kupav@mail.ru](mailto:kupav@mail.ru)\n",
    "\n",
    "Recommended reading for this section:\n",
    "\n",
    "1. Grus, J. (2019). Data Science From Scratch: First Principles with Python (Vol. Second edition). Sebastopol, CA: O’Reilly Media\n",
    "1. Muller, A and Guido, S (2017). Introduction to Machine Learning with Python. O'Reilly\n",
    "\n",
    "The following Python modules will be required. Make sure that you have them installed.\n",
    "- `numpy`\n",
    "- `matplotlib`\n",
    "- `sklearn`\n",
    "- `csv`\n",
    "- `requests`\n",
    "- `collections`\n",
    "- `re`\n",
    "- `io`\n",
    "- `zipfile`"
   ]
  },
  {
   "cell_type": "markdown",
   "metadata": {},
   "source": [
    "## Lesson 1"
   ]
  },
  {
   "cell_type": "markdown",
   "metadata": {},
   "source": [
    "### Remember probabilities and the Bays' theorem\n",
    "\n",
    "Assume we have a stochastic experiment like rolling a dice or tossing a coin.\n",
    "\n",
    "Consider an event $A$, e.g., an even number has shown up of a dice.\n",
    "\n",
    "If there are totally $N$ outcomes of the experiment and $N_A$ of them correspond to the event $A$.\n",
    "\n",
    "Then the probability of $A$ is\n",
    "\n",
    "$$\n",
    "P(A) = \\frac{N_A}{N}\n",
    "$$\n",
    "\n",
    "$P(A)$ is also called marginal probability.\n",
    "\n",
    "For example if we have a dice and the event $A$ is showing up an even number then totally there are $N=6$ \n",
    "outcomes and $N_A=3$ of them fulfills $A$.\n",
    "\n",
    "$$\n",
    "P(A) = \\frac{3}{6}=\\frac{1}{2}\n",
    "$$\n",
    "\n",
    "Consider two events $A$ and $B$. Assume we have a box of balls that are blue and red. Let an event $A$ be a blind taking of a red ball without returning it back. And $B$ is a blind taking of another red ball.\n",
    "\n",
    "Event $B$ and $A$ are dependent since the probability of $B$ depends on the occurrence of $A$. If $A$ has not occurred then $P(B)$ is higher (because more red balls left).\n",
    "\n",
    "But if after taking a ball for the first time we return it back the event $B$ will be independent on $A$.\n",
    "\n",
    "Joint probability of $A$ and $B$ is the probability that both events occur simultaneously. \n",
    "\n",
    "If they are independent then the joint probability is mere the product of their probabilities:\n",
    "\n",
    "$$\n",
    "P(A,B)=P(A)P(B)\n",
    "$$\n",
    "\n",
    "And when the events are dependent the joint probability is computed via their conditional probabilities:\n",
    "\n",
    "$$\n",
    "P(A, B) = P(B | A) P(A)\n",
    "$$\n",
    "\n",
    "Here $P(B|A)$ is the conditional probability of $B$ provided that $A$ has occurred. \n",
    "\n",
    "Since the all dependences in nature are always two sided (if $A$ influences $B$ than $B$ also influences $A$) we can also consider the reversed formula for the joint probability:\n",
    "\n",
    "$$\n",
    "P(A, B) = P(A | B) P(B)\n",
    "$$\n",
    "\n",
    "Now $P(A | B)$ is the conditional probability of $A$ provided that $B$ has occurred. \n",
    "\n",
    "Thus\n",
    "\n",
    "$$\n",
    "P(B | A) P(A) = P(A | B) P(B)\n",
    "$$\n",
    "\n",
    "Assume we know $P(A | B)$ and want to find $P(B | A)$. It is found via Bayes' theorem:\n",
    "\n",
    "$$\n",
    "P(B | A) = \\frac{P(A | B) P(B)}{P(A)}\n",
    "$$\n",
    "\n",
    "If the marginal probability $P(A)$ is unknown in advance, it can be found via the law of total probability.\n",
    "\n",
    "$$\n",
    "P(A) = P(A | B) P(B) + P(A | \\bar B) P(\\bar B)\n",
    "$$\n",
    "\n",
    "Here over bar means negation: $\\bar B$ means that $B$ has not occurred.\n",
    "\n",
    "Gathering these equations together we obtain more detailed form of Bayes' theorem:\n",
    "\n",
    "$$\n",
    "P(B | A) = \\frac{P(A | B) P(B)}{P(A | B) P(B) + P(A | \\bar B) P(\\bar B)}\n",
    "$$"
   ]
  },
  {
   "cell_type": "markdown",
   "metadata": {},
   "source": [
    "### Idea of the naive Bayes classifier\n",
    "\n",
    "Let us remember that the classification mean finding an appropriate label for a new data record.\n",
    "\n",
    "Assume that we have a dataset of $n$ features (table with $n$ columns). \n",
    "\n",
    "Let us denote as $(A_1, A_2, \\ldots A_n)$ a row from this table. In the other word, this is a record describing one entity in the dataset. \n",
    "\n",
    "The data are assumed to be categorical. For example $A_1$ can denote a size of a fruit: \"big\", \"medium\" or \"small\", and $A_2$ can encode its color like \"red\", \"green\" or \"yellow\". Or something like that.\n",
    "\n",
    "In general $A_i$ can have an integer value from a certain range. For the sake of simplicity in what follows will often assume that $A_i$ can be either 0 or 1.\n",
    "\n",
    "Let us denote via $B$ a class label. For example it can be \"apple\", or \"orange\" or \"tomato\". \n",
    "\n",
    "In general this is also an integer that encodes a class.\n",
    "\n",
    "Since $A_i$ and $B$ are categorical and have finite ranges of integer values in principle we can consider all possible combinations\n",
    "of $(A_1, A_2, \\ldots A_n)$.\n",
    "\n",
    "For example if $A_i$ can be 0 or 1 and there are three features, i.e., $n=3$, there are 8 combinations:\n",
    "- 000\n",
    "- 001\n",
    "- 010\n",
    "- 011\n",
    "- 100\n",
    "- 101\n",
    "- 110\n",
    "- 111\n",
    "\n",
    "If we are able to collect all combinations and assign a label $B$ to each one then we do not need machine learning at all.\n",
    "\n",
    "If a new record is obtained we just can look at the dataset and find the corresponding label.\n",
    "\n",
    "(Of course this will be the case only if our list of features is comprehensive. Otherwise same combinations can appear in different classes and we will need some probabilistic model.)\n",
    "\n",
    "But if $n$ is large it is impossible to collect and label all possible combinations.\n",
    "\n",
    "How can we classify a new data record $(A_1, A_2, \\ldots A_n)$ if we have an incomplete labeled dataset that does not contain this combination?\n",
    "\n",
    "When we solve this problem using a naive Bayes classifiers we compute probabilities that a new data record belongs to each of the existing classes and then choose the one with the largest value of the probability.\n",
    "\n",
    "This approach is also known as maximum likelihood estimation.\n",
    "\n",
    "The staring point of the analysis is a Bayes' theorem. This theorem allows to compute conditional probability. \n",
    "\n",
    "However the naive Bayes classifier can compute only an approximate estimation of the probability. \n",
    "\n",
    "Thus this is usually called likelihood instead of probability."
   ]
  },
  {
   "cell_type": "markdown",
   "metadata": {},
   "source": [
    "According to the Bayes theorem\n",
    "\n",
    "$$\n",
    "P(B_j | A_1,A_2,\\ldots A_n) = \\frac{P(A_1,A_2,\\ldots A_n | B_j) P(B_j)}{P(A_1,A_2,\\ldots A_n)}\n",
    "$$\n",
    "\n",
    "To identify a class we need $P(B_j | A_1,A_2,\\ldots A_n)$ for all classes $B_j$ where $j$ runs through all class numbers.\n",
    "\n",
    "Accordingly, conditional probabilities $P(A_1,A_2,\\ldots A_n | B_j)$ are required.\n",
    "\n",
    "In principal it is clear how to compute them from the dataset: take the subset that has label $B_j$ and compute relative frequencies \n",
    "of every combination for $(A_1,A_2,\\ldots A_n)$.\n",
    "\n",
    "But as we already mentioned above if we really have a labeled dataset \n",
    "where all the combinations of $(A_1,A_2,\\ldots A_n)$ can be found, we do not need a classifier. \n",
    "\n",
    "For the most of practically interesting problems such table would be really huge.\n",
    "\n",
    "The problem is how to estimate $P(B_j | A_1,A_2,\\ldots A_n)$ without having a dataset with all combinations of $A_i$?"
   ]
  },
  {
   "cell_type": "markdown",
   "metadata": {},
   "source": [
    "Before we continue let us consider how number of possible combinations grows with the number of features $n$.\n",
    "\n",
    "We assume that our features are binary, i.e., each column can contain only 0's or 1's\n",
    "\n",
    "Thus a string of 0's and 1's represents a data record. \n",
    "\n",
    "How many different combinations can be for a given $n$?\n",
    "\n",
    "If $n=1$  there are two combinations: \n",
    "- '0'\n",
    "- '1'\n",
    "\n",
    "If $n=2$ we take each of size 1 string and append to the right one more symbol, either 0 or 1. Two combinations are repeated twice. Thus totally there are 4 combinations\n",
    "- '00'\n",
    "- '01'\n",
    "- '10'\n",
    "- '11'\n",
    "\n",
    "If $n=3$: take all previous 4 strings and repeat each two times with 0 or 1 appended:\n",
    "- '000'\n",
    "- '001'\n",
    "- '010'\n",
    "- '011'\n",
    "- '100'\n",
    "- '101'\n",
    "- '110'\n",
    "- '111'\n",
    "\n",
    "In general: each new symbol doubles the number of combinations. String of $n$ symbols has 2 to the power of $n$ combinations.\n",
    "- $n=1$: $2=2^1$\n",
    "- $n=2$: $2\\times 2=2^2$\n",
    "- $n=3$: $2\\times 2\\times 2=2^3$\n",
    "- $n$: $2\\times 2\\times\\ldots\\times 2=2^n$\n",
    "\n",
    "All these strings can be treated as a binary numbers. \n",
    "\n",
    "So it is much simpler to substitute them them with the corresponding decimal numbers. \n",
    "\n",
    "Now the question: if we have $n$ binary features how large dataset can be to have all possible combinations in it?\n",
    "\n",
    "Obviously it must have size $2^n$ provided that each combinations appears exactly one time."
   ]
  },
  {
   "cell_type": "code",
   "execution_count": null,
   "metadata": {},
   "outputs": [],
   "source": [
    "import numpy as np\n",
    "import matplotlib.pyplot as plt\n",
    "\n",
    "ns = np.arange(0, 11)\n",
    "sz = 2**ns\n",
    "\n",
    "fig, ax = plt.subplots()\n",
    "ax.plot(ns, sz, 'o-')\n",
    "ax.grid();"
   ]
  },
  {
   "cell_type": "markdown",
   "metadata": {},
   "source": [
    "The required size grows very fast.\n",
    "\n",
    "And if we collect a dataset more or less at random the size will be even larger since some combinations can repeat.\n",
    "\n",
    "Lets us generate a dataset at random and see when we can have each combinations of features at least once."
   ]
  },
  {
   "cell_type": "code",
   "execution_count": null,
   "metadata": {
    "run_control": {
     "marked": false
    }
   },
   "outputs": [],
   "source": [
    "import numpy as np\n",
    "from collections import Counter\n",
    "import matplotlib.pyplot as plt\n",
    "rng = np.random.default_rng(seed=0)\n",
    "\n",
    "nn = 6             # model number of binary features\n",
    "size_short = 100   # small dataset size\n",
    "size_long  = 1000  # lager dataset size\n",
    "data_short = rng.integers(2**nn, size=size_short)\n",
    "data_long = rng.integers(2**nn, size=size_long)\n",
    "\n",
    "count_short = Counter(data_short)\n",
    "count_long  = Counter(data_long)\n",
    "\n",
    "fig, axs = plt.subplots(nrows=2, ncols=1, figsize=(14, 8))\n",
    "\n",
    "axs[0].bar(list(count_short), list(count_short.values()))\n",
    "axs[0].set_title(f'range of data {2**nn}, size of the datset {size_short}')\n",
    "axs[0].set_xlim([0, 2**nn])\n",
    "axs[1].bar(list(count_long), list(count_long.values()))\n",
    "axs[1].set_title(f'range of data {2**nn}, size of the datset {size_long}')\n",
    "axs[1].set_xlim([0, 2**nn]);"
   ]
  },
  {
   "cell_type": "markdown",
   "metadata": {},
   "source": [
    "We see that if we have $n=6$ features there are 64 combinations and the dataset of 100 elements is sparse: not all variants appear.\n",
    "(Let us remember we consider combinations of 0's and 1's and have 6 of them. Integers along the horizontal axis enumerate these combinations).\n",
    "\n",
    "For the dataset of the length 1000 there are no empty sites.\n",
    "\n",
    "But if we increase $n$ we will see some."
   ]
  },
  {
   "cell_type": "markdown",
   "metadata": {},
   "source": [
    "Let us return to our problem. \n",
    "\n",
    "We have a labeled dataset that does not include all combinations of $(A_1,A_2,\\ldots A_n)$ but want to have a machine learning \n",
    "model that can assign a correct label to every possible combination.\n",
    "\n",
    "When we build a naive Bays classifier we solve the problem assuming that all features are independent on each other.\n",
    "\n",
    "That is why the classifier is naive. Intuitively we expect that the features can correlate with each other but ignore it.\n",
    "\n",
    "For example assume that one column of the dataset contains temperature sensations like \"hot\", \"mild\" or \"cool\" and another column is snowfall that can be either \"yes\" or \"no\". \n",
    "\n",
    "We can expect that air temperature influences the emergence of a snowfall. However a naive Bayes classifier ignores it.\n",
    "\n",
    "But still it works. The main reason is that the dependencies that we omit are usually not so strong and influential.\n",
    "\n",
    "The benefit of the naive assumption is as follows:\n",
    "\n",
    "In the Bayes' equation\n",
    "\n",
    "$$\n",
    "P(B_j | A_1,A_2,\\ldots A_n) = \\frac{P(A_1,A_2,\\ldots A_n | B_j) P(B_j)}{P(A_1,A_2,\\ldots A_n)}\n",
    "$$\n",
    "\n",
    "we need the conditional probability $P(A_1,A_2,\\ldots A_n | B_j)$. If the features are independent we can easily compute it. \n",
    "\n",
    "Let us remember: joint probability of the independent events is a product \n",
    "of their marginal probabilities.\n",
    "\n",
    "$$\n",
    "P(A_1,A_2,\\ldots A_n | B_j) = P(A_1 | B_j) P(A_2 | B_j) \\ldots P(A_n | B_j)\n",
    "$$\n",
    "\n",
    "To perform classification we will not need the denominator of the Bayes formula, but it can also be easily computed:\n",
    "\n",
    "$$\n",
    "P(A_1,A_2,\\ldots A_n) = P(A_1) P(A_2) \\ldots P(A_n)\n",
    "$$\n",
    "\n",
    "Why it helps? Because we can easily collect the probabilities $P(A_i | B_j)$ just by counting values in columns. \n",
    "\n",
    "The huge set is not needed for it. \n",
    "\n",
    "And then we can construct every combination of features $(A_1,A_2,\\ldots A_n)$ and estimate its probability."
   ]
  },
  {
   "cell_type": "markdown",
   "metadata": {},
   "source": [
    "Thus the naive Bayes classifier computes likelihood (estimated probability) that a feature vector $(A_1,A_2,\\ldots A_n)$  belongs to the class $B_j$ according to the formula:\n",
    "\n",
    "$$\n",
    "P(B_j | A_1,A_2,\\ldots A_n) \\propto P(A_1 | B_j) P(A_2 | B_j) \\ldots P(A_n | B_j) P(B_j)\n",
    "$$\n",
    "\n",
    "Here $P(A_i | B_j)$ and $P(B_j)$ are computed from the training data as relative frequencies. \n",
    "\n",
    "The symbol \"$\\propto$\" means \"proportional\". We use it instead of equality sign because we have omitted the denominator.\n",
    "\n",
    "We have to compute $P(B_j | A_1,A_2,\\ldots A_n)$ for all $j$ and since the denominator $P(A_1) P(A_2) \\ldots P(A_n)$ does not depend on $B_j$ it will be the same for all $j$. That is why we omit it.\n",
    "\n",
    "Then we compare likelihoods $P(B_j | A_1,A_2,\\ldots A_n)$ and find a class $B_j$ that have the largest one. This will be the label for the feature vector $(A_1,A_2,\\ldots A_n)$. \n",
    "\n",
    "Mathematically it reads as\n",
    "\n",
    "$$\n",
    "B_j = \\mathop{\\mathrm{argmax}}_{\\text{$B_j$ runs through all classes}} P(A_1 | B_j) P(A_2 | B_j) \\ldots P(A_n | B_j) P(B_j)\n",
    "$$"
   ]
  },
  {
   "cell_type": "markdown",
   "metadata": {},
   "source": [
    "### Toy example of a binary classifier\n",
    "\n",
    "Assume that we have a corpus of eleven email messages labeled as spam or ham. \n",
    "\n",
    "(Ham in this context is a standard term for a non-spam message. 'SPAM' is a brand of canned cooked pork that became famous due to its annoying commercial).\n",
    "\n",
    "Five of them are labeled as spam and six are ham.\n",
    "\n",
    "In these messages we find four keywords \"million\", \"winner\", \"award\" and \"brand\". We hope that their presence or absence \n",
    "in a message can be related with its class, spam or ham.\n",
    "\n",
    "In the table below each row represents one email. Symbol 1 in the column means the the corresponding word, usually it is called token, is encountered in this message and 0 means that this token is absent.\n",
    "\n",
    "List of all tokes is called vocabulary.\n",
    "\n",
    "For example the first email contains all four tokens, the second one contains all except \"award\". In the third message token \"million\" is absent and so on.\n",
    "\n",
    "Such representation of texts is called \"bag of words\". \n",
    "\n",
    "| #  | million | winner | award | brand | label |\n",
    "|----|---------|--------|-------|-------|-------|\n",
    "| 1  | 1       | 1      | 1     | 1     | spam  |\n",
    "| 2  | 1       | 1      | 0     | 1     | spam  |\n",
    "| 3  | 0       | 1      | 1     | 1     | spam  |\n",
    "| 4  | 0       | 1      | 0     | 0     | spam  |\n",
    "| 5  | 0       | 0      | 1     | 0     | spam  |\n",
    "| 6  | 1       | 1      | 0     | 1     | ham   |\n",
    "| 7  | 0       | 0      | 0     | 0     | ham   |\n",
    "| 8  | 0       | 1      | 0     | 0     | ham   |\n",
    "| 9  | 0       | 0      | 0     | 0     | ham   |\n",
    "| 10 | 0       | 0      | 1     | 0     | ham   |\n",
    "| 11 | 1       | 1      | 1     | 0     | ham   |\n",
    "\n",
    "Since we have four tokens and each one can be or can not be in the message there are $2^4=16$ combinations. \n",
    "\n",
    "But also we suspect that\n",
    "four tokens is not enough for unambiguously identify a class. \n",
    "\n",
    "It means that some combinations can appear both in spam and in ham classes, e.g., see messages 2 and 6.\n",
    "\n",
    "We are going to create a naive Bayes classifier for this dataset.\n",
    "\n",
    "Let us compute conditional probabilities for tokens to appear in spam messages:\n",
    "$P(M|S)$, $P(W|S)$, $P(A|S)$, $P(B|S)$.\n",
    "\n",
    "Similar we find probabilities for tokens in ham messages:\n",
    "$P(M|H)$, $P(W|H)$, $P(A|H)$, $P(B|H)$.\n",
    "\n",
    "Also we will need marginal probabilities of spam and ham $P(S)$ and $P(H)$."
   ]
  },
  {
   "cell_type": "code",
   "execution_count": null,
   "metadata": {},
   "outputs": [],
   "source": [
    "million = np.array([1,1,0,0,0,1,0,0,0,0,1])\n",
    "winner  = np.array([1,1,1,1,0,1,0,1,0,0,1])\n",
    "award   = np.array([1,0,1,0,1,0,0,0,0,1,1])\n",
    "brand   = np.array([1,1,1,0,0,1,0,0,0,0,0])\n",
    "label = np.array(['spam'] * 5 + ['ham'] * 6)"
   ]
  },
  {
   "cell_type": "markdown",
   "metadata": {},
   "source": [
    "Technical remark. How can we filter values from `numpy` array: "
   ]
  },
  {
   "cell_type": "code",
   "execution_count": null,
   "metadata": {},
   "outputs": [],
   "source": [
    "# Content of two arrays\n",
    "print(million)\n",
    "print(label)"
   ]
  },
  {
   "cell_type": "code",
   "execution_count": null,
   "metadata": {},
   "outputs": [],
   "source": [
    "# This statement compare 'orange' with every element of array\n",
    "print(label=='spam')  "
   ]
  },
  {
   "cell_type": "code",
   "execution_count": null,
   "metadata": {},
   "outputs": [],
   "source": [
    "# If we pass array of True and False as another array index we extact only those values that \n",
    "# correspond to True\n",
    "print(million[label=='spam'])"
   ]
  },
  {
   "cell_type": "markdown",
   "metadata": {},
   "source": [
    "Helper function: we pass it array and a labels. It filters corresponding elements of an array and find a relative frequency."
   ]
  },
  {
   "cell_type": "code",
   "execution_count": null,
   "metadata": {},
   "outputs": [],
   "source": [
    "def prob(arr, lab):\n",
    "    a = arr[label==lab]\n",
    "    return sum(a) / len(a)"
   ]
  },
  {
   "cell_type": "markdown",
   "metadata": {},
   "source": [
    "We compute the probabilities\n",
    "- 'million' in spam $P(M|S)$\n",
    "- 'winner' in spam $P(W|S)$\n",
    "- 'award' in spam $P(A|S)$\n",
    "- 'brand' in spam $P(B|S)$"
   ]
  },
  {
   "cell_type": "code",
   "execution_count": null,
   "metadata": {},
   "outputs": [],
   "source": [
    "prob_m_s = prob(million, 'spam')\n",
    "prob_w_s = prob(winner, 'spam')\n",
    "prob_a_s = prob(award, 'spam')\n",
    "prob_b_s = prob(brand, 'spam')"
   ]
  },
  {
   "cell_type": "markdown",
   "metadata": {},
   "source": [
    "Now the probabilities for ham\n",
    "- 'million' in ham $P(M|H)$\n",
    "- 'winner' in ham $P(W|H)$\n",
    "- 'award' in ham $P(A|H)$\n",
    "- 'brand' in ham $P(B|H)$"
   ]
  },
  {
   "cell_type": "code",
   "execution_count": null,
   "metadata": {},
   "outputs": [],
   "source": [
    "prob_m_h = prob(million, 'ham')\n",
    "prob_w_h = prob(winner, 'ham')\n",
    "prob_a_h = prob(award, 'ham')\n",
    "prob_b_h = prob(brand, 'ham')"
   ]
  },
  {
   "cell_type": "markdown",
   "metadata": {},
   "source": [
    "Marginal probabilities of spam and ham"
   ]
  },
  {
   "cell_type": "code",
   "execution_count": null,
   "metadata": {},
   "outputs": [],
   "source": [
    "prob_marg_s = len(label[label=='spam']) / len(label)\n",
    "prob_marg_h = 1 - prob_marg_s"
   ]
  },
  {
   "cell_type": "markdown",
   "metadata": {},
   "source": [
    "One more helper function: it returns `prob` if `x==1` and `(1-prob)` when `x==0`:"
   ]
  },
  {
   "cell_type": "code",
   "execution_count": null,
   "metadata": {},
   "outputs": [],
   "source": [
    "def pb(prob, x):\n",
    "    return prob if x == 1 else (1-prob)"
   ]
  },
  {
   "cell_type": "markdown",
   "metadata": {},
   "source": [
    "Now all data of the model is ready and we can do predictions:"
   ]
  },
  {
   "cell_type": "code",
   "execution_count": null,
   "metadata": {},
   "outputs": [],
   "source": [
    "m_test, w_test, a_test, b_test = 1, 1, 0, 1  # this is a new data record\n",
    "\n",
    "lh_s = pb(prob_m_s, m_test) * pb(prob_w_s, w_test) * pb(prob_a_s, a_test) * pb(prob_b_s, b_test) * prob_marg_s\n",
    "lh_h = pb(prob_m_h, m_test) * pb(prob_w_h, w_test) * pb(prob_a_h, a_test) * pb(prob_b_h, b_test) * prob_marg_h\n",
    "pred = 'spam' if lh_s > lh_h else 'ham'\n",
    "print(pred)"
   ]
  },
  {
   "cell_type": "code",
   "execution_count": null,
   "metadata": {},
   "outputs": [],
   "source": [
    "m_test, w_test, a_test, b_test = 1, 0, 0, 1  # this is a new data record\n",
    "\n",
    "lh_s = pb(prob_m_s, m_test) * pb(prob_w_s, w_test) * pb(prob_a_s, a_test) * pb(prob_b_s, b_test) * prob_marg_s\n",
    "lh_h = pb(prob_m_h, m_test) * pb(prob_w_h, w_test) * pb(prob_a_h, a_test) * pb(prob_b_h, b_test) * prob_marg_h\n",
    "pred = 'spam' if lh_s > lh_h else 'ham'\n",
    "print(pred)"
   ]
  },
  {
   "cell_type": "markdown",
   "metadata": {},
   "source": [
    "### Technical remarks before creating the naive Bayes classifier\n",
    "\n",
    "Now are going to create a fully functional naive Bayes classifier.\n",
    "\n",
    "But before doing that we need to make some technical remarks.\n",
    "\n",
    "For our purposes it will be more convenient to use `defaultdict` instead of a plain Python dictionary.\n",
    "\n",
    "If a plain dictionary does not have a key its reading causes an error, and reading an absent key from `defaultdict` return a default value."
   ]
  },
  {
   "cell_type": "code",
   "execution_count": null,
   "metadata": {},
   "outputs": [],
   "source": [
    "d1 = dict()\n",
    "d1['one'] = 0\n",
    "try:\n",
    "    d1['one'] += 1  # it's ok, since we already initialized this key\n",
    "    d1['two'] += 1  # it will be an error since key 'two' is undefined\n",
    "    print(\"Finished successfully\")  # this line will not be executed\n",
    "except KeyError as e:\n",
    "    print(\"KeyError\", e)"
   ]
  },
  {
   "cell_type": "code",
   "execution_count": null,
   "metadata": {},
   "outputs": [],
   "source": [
    "from collections import defaultdict\n",
    "d2 = defaultdict(int)\n",
    "d2['one'] = 0\n",
    "try:\n",
    "    d2['one'] += 1  # it's ok, since we already initialized this key\n",
    "    d2['two'] += 1  # it is also ok since default value of int (zero) will be assumed \n",
    "    print(\"Finished successfully\") \n",
    "except KeyError as e:\n",
    "    print(\"KeyError\", e)  # this line will not be executed"
   ]
  },
  {
   "cell_type": "markdown",
   "metadata": {},
   "source": [
    "Let us remember the Python sets.\n",
    "\n",
    "A set does not allow duplicates. Thus when a list is converted to a set, all duplicates are removed.\n",
    "\n",
    "Then the set can be converted back to a list if required."
   ]
  },
  {
   "cell_type": "code",
   "execution_count": null,
   "metadata": {},
   "outputs": [],
   "source": [
    "s1 = ['one', 'one', 'one', 'two', 'two', 'three']\n",
    "print(s1)\n",
    "s2 = set(s1)\n",
    "print(s2)\n",
    "s3 = list(s2)\n",
    "print(s3)"
   ]
  },
  {
   "cell_type": "markdown",
   "metadata": {},
   "source": [
    "Sets are convenient when we need to store only unique values."
   ]
  },
  {
   "cell_type": "code",
   "execution_count": null,
   "metadata": {},
   "outputs": [],
   "source": [
    "vocab = set()\n",
    "print(vocab)\n",
    "vocab.add(\"one\")\n",
    "print(vocab)\n",
    "vocab.add(\"one\")\n",
    "print(vocab)\n",
    "vocab.update([\"one\", \"two\", \"three\"])\n",
    "print(vocab)"
   ]
  },
  {
   "cell_type": "markdown",
   "metadata": {},
   "source": [
    "We can check if a value belong to a set using `in` operator:"
   ]
  },
  {
   "cell_type": "code",
   "execution_count": null,
   "metadata": {},
   "outputs": [],
   "source": [
    "print('one' in vocab)\n",
    "print('one' not in vocab)\n",
    "print('once' not in vocab)"
   ]
  },
  {
   "cell_type": "markdown",
   "metadata": {},
   "source": [
    "Let us remember regular expressions. \n",
    "\n",
    "Pattern \"\\[a-z'\\]\" matches any letter or apostrophe. And if we add plus like this: \"\\[a-z'\\]+\" it means that the pattern matches \n",
    "one or more occurrences of the symbols. This pattern is the simplest way to match words in a text.\n",
    "\n",
    "Usually we ignore the difference between small and capital letters. Thus it is convenient to convert the text to the lower \n",
    "case using `.lower()` method of strings."
   ]
  },
  {
   "cell_type": "code",
   "execution_count": null,
   "metadata": {},
   "outputs": [],
   "source": [
    "import re\n",
    "\n",
    "txt = \"\"\"I've a cat named Vesters,\n",
    "And he eats all day.\n",
    "He always lays around,\n",
    "And never wants to play.\n",
    "\"\"\"\n",
    "\n",
    "rge = re.compile(r\"[a-z']+\")\n",
    "print(rge.findall(txt.lower()))"
   ]
  },
  {
   "cell_type": "markdown",
   "metadata": {},
   "source": [
    "Two final technical remark: We will compute probabilities of a word $W_i$ to appear in spam and in ham messages. \n",
    "\n",
    "Assume that this word appears only in spam messages. Then the probability to see it in ham messages will be zero.\n",
    "\n",
    "Since we compute the product of probabilities $P(W_1|H)P(W_2|H)P(W_3|H)\\ldots$ vanishing of one of the elements, say $P(W_2|H)=0$, zeroing the whole product. \n",
    "\n",
    "In this case all messages with $W_i$ will always be classified as spam since the opposite probability will always be zero.\n",
    "\n",
    "To avoid it we add a pseudocount $k$ when compute the probabilities:\n",
    "\n",
    "$$\n",
    "P(W_i | S) = \\frac{k + \\text{number of spam messages with $W_i$}}{2k + \\text{total number of spam messages}}\n",
    "$$\n",
    "\n",
    "Usually $k=1$."
   ]
  },
  {
   "cell_type": "markdown",
   "metadata": {},
   "source": [
    "To perform a classification of a message that contains a set of tokes (words)\n",
    "$(W_1, W_2, \\ldots W_n)$ we need to compute likelihoods that it is a spam and a ham:\n",
    "\n",
    "$$\n",
    "P(S | W_1,W_2,\\ldots W_n) \\propto P(W_1 | S) P(W_2 | S) \\ldots P(W_n | S) P(S)\n",
    "$$\n",
    "\n",
    "$$\n",
    "P(H | W_1,W_2,\\ldots W_n) \\propto P(W_1 | H) P(W_2 | H) \\ldots P(W_n | H) P(H)\n",
    "$$\n",
    "\n",
    "Then if $P(S | W_1,W_2,\\ldots W_n) > P(H | W_1,W_2,\\ldots W_n)$ we classify it as a spam and this is a ham in the other case.\n",
    "\n",
    "The expressions contains a lot of multiplications:\n",
    "\n",
    "$$\n",
    "P(W_1 | S) P(W_2 | S) \\ldots P(W_n | S) P(S), \\; P(W_1 | H) P(W_2 | H) \\ldots P(W_n | H) P(H)\n",
    "$$\n",
    "\n",
    "Such computations are numerically unstable. \n",
    "\n",
    "We can easily obtain an underflow when values approach zero. Numerical errors can enormously grow.\n",
    "\n",
    "We can avoid it by using logarithms. Let us remember:\n",
    "\n",
    "$$\n",
    "\\log(a \\times b) = \\log a + \\log b\n",
    "$$\n",
    "\n",
    "It means that if we sum logarithms of factors we will have a logarithm of their product.\n",
    "\n",
    "We do not need the absolute values of the probabilities. Instead we will compare them. \n",
    "\n",
    "Thus instead of computing products of probabilities we will collect sums of logarithms and compare them."
   ]
  },
  {
   "cell_type": "markdown",
   "metadata": {},
   "source": [
    "### The naive Bayes classifier\n",
    "\n",
    "Let us now create a class that implements the naive Bayes classifier."
   ]
  },
  {
   "cell_type": "code",
   "execution_count": null,
   "metadata": {},
   "outputs": [],
   "source": [
    "from collections import defaultdict\n",
    "import re\n",
    "import numpy as np\n",
    "\n",
    "class NaiveBayes:\n",
    "    def __init__(self, k, drop_short):\n",
    "        \"\"\"\n",
    "        k - pseudocount, usually 1\n",
    "        drop_short - drop too short tokens\n",
    "        \"\"\"\n",
    "        self.k = k\n",
    "        self.vocab = set()  # vocabulary, i.e., set of all seen tokens\n",
    "        self.token_in_spam = defaultdict(int)   # conters of tokesn in spam\n",
    "        self.token_in_ham = defaultdict(int)    # ... and in ham messages\n",
    "        self.pcond_spam = self.pcond_ham = None # conditional probabilities of tokesn, will be computed after training\n",
    "        self.spam_total = self.ham_total = 0    # total number of spam and ham messages\n",
    "        self.p_spam_total = self.p_ham_total = None  # marginal probailities of spam and ham messages\n",
    "        self.re_token = re.compile(r\"[a-z']+\")  # regex to extarct tokens\n",
    "        self.drop_short = drop_short  # lengths of short tokens to drop out\n",
    "        \n",
    "    def _text2tokens(self, text):\n",
    "        \"\"\"Convert a text to a list of tokens. \n",
    "        We take just the first line of a message that contains a word Subject\"\"\"\n",
    "        text_lower = text.lower()\n",
    "        s = text_lower.splitlines()[0]\n",
    "        text_lower = s.replace('Subject: ', '')\n",
    "        all_tokens = self.re_token.findall(text_lower)\n",
    "        unique_tokes = list(set(all_tokens))\n",
    "        good_tokens = [tok for tok in unique_tokes if len(tok) > self.drop_short]\n",
    "        return good_tokens\n",
    "    \n",
    "    def fit(self, messages, labels):\n",
    "        \"\"\"Training: computing the probailities for each token \n",
    "        to be enacontered in spam and ham messages.\n",
    "        \"\"\"\n",
    "        \n",
    "        # Count tokens in spam and in ham messages\n",
    "        for mes, lab in zip(messages, labels):\n",
    "            tokens = self._text2tokens(mes)\n",
    "            if lab == 'spam':\n",
    "                self.spam_total += 1\n",
    "                for tok in tokens:\n",
    "                    self.token_in_spam[tok] += 1\n",
    "            else:\n",
    "                self.ham_total += 1\n",
    "                for tok in tokens:\n",
    "                    self.token_in_ham[tok] += 1\n",
    "            self.vocab.update(tokens)\n",
    "\n",
    "        # Compute probabilities\n",
    "        self.pcond_spam = defaultdict(int)\n",
    "        self.pcond_ham = defaultdict(int)\n",
    "        for tok in self.vocab:\n",
    "            self.pcond_spam[tok] = (self.token_in_spam[tok] + self.k) / (self.spam_total + 2 * self.k)\n",
    "            self.pcond_ham[tok] = (self.token_in_ham[tok] + self.k) / (self.ham_total + 2 * self.k)\n",
    "        self.p_spam_total = self.spam_total / (self.spam_total + self.ham_total)\n",
    "        self.p_ham_total = 1 - self.p_spam_total\n",
    "        \n",
    "    def predict(self, messages):\n",
    "        \"\"\"Prediction: computing labels for messages.\n",
    "        \"\"\"\n",
    "        pred = []\n",
    "        for mes in messages:\n",
    "            message_tokens = self._text2tokens(mes)\n",
    "            log_sum_spam = np.log(self.p_spam_total)  # collect probailities for spam \n",
    "            log_sum_ham = np.log(self.p_ham_total)    # ... and ham messages\n",
    "            for tok in self.vocab:\n",
    "                p_spam = self.pcond_spam[tok] \n",
    "                p_ham = self.pcond_ham[tok]\n",
    "                if tok not in message_tokens:  # if the token absent in the message we take complememnt probailities\n",
    "                    p_spam = 1 - p_spam\n",
    "                    p_ham = 1 - p_ham\n",
    "                log_sum_spam += np.log(p_spam)\n",
    "                log_sum_ham += np.log(p_ham)\n",
    "            # Make a desision, spam or ham\n",
    "            pred.append('spam' if log_sum_spam > log_sum_ham else 'ham')\n",
    "        return pred\n",
    "    \n",
    "    def explore_vocab(self):\n",
    "        \"\"\"Make a predicition for every token separately to see\n",
    "        how they influnce the prediction.\n",
    "        \"\"\"\n",
    "        spam_words = []\n",
    "        for tok in self.vocab:\n",
    "            p_spam = self.pcond_spam[tok] * self.p_spam_total\n",
    "            p_ham = self.pcond_ham[tok] * self.p_ham_total\n",
    "            if p_spam > p_ham:\n",
    "                spam_words.append([tok, p_spam])\n",
    "                \n",
    "        spam_words = sorted(spam_words, key=lambda x: -x[1])\n",
    "        words_only = [s[0] for s in spam_words]\n",
    "        return words_only"
   ]
  },
  {
   "cell_type": "markdown",
   "metadata": {},
   "source": [
    "We will train our classifier using the dataset 'spam_and_ham' found in \n",
    "https://www.kaggle.com/venky73/spam-mails-dataset?select=spam_ham_dataset.csv\n",
    "\n",
    "For convenience its copy is uploaded to the course repository where we download it."
   ]
  },
  {
   "cell_type": "code",
   "execution_count": null,
   "metadata": {},
   "outputs": [],
   "source": [
    "import csv\n",
    "import requests\n",
    "from io import BytesIO, TextIOWrapper\n",
    "from zipfile import ZipFile\n",
    "\n",
    "def load_zipcsv_categorical(file_name):\n",
    "    \"\"\"Downloads zipped csv dataset from repo and return it as a nested list.\"\"\"\n",
    "    base_url = \"https://raw.githubusercontent.com/kupav/data-sc-intro/main/data/\"\n",
    "    web_data = requests.get(base_url + file_name)\n",
    "    assert web_data.status_code == 200\n",
    "\n",
    "    # unzip the content\n",
    "    zf = ZipFile(BytesIO(web_data.content))\n",
    "    \n",
    "    # zipped file name\n",
    "    zipped_name = zf.namelist()[0]\n",
    "    print(f\"Download {file_name}, unzip {zipped_name}\")\n",
    "    \n",
    "    # Open unpacked file\n",
    "    with zf.open(zipped_name, 'r') as file:\n",
    "        # TextIOWrapper(file) converts byte strings to plain strings\n",
    "        reader = csv.reader(TextIOWrapper(file), delimiter=',')\n",
    "        data = []\n",
    "        for row in reader:\n",
    "            data.append(row)\n",
    "    return data\n",
    "\n",
    "raw_data = load_zipcsv_categorical(\"spam_and_ham.zip\")"
   ]
  },
  {
   "cell_type": "markdown",
   "metadata": {},
   "source": [
    "Let us print first couple of rows from this dataset"
   ]
  },
  {
   "cell_type": "code",
   "execution_count": null,
   "metadata": {},
   "outputs": [],
   "source": [
    "for row in raw_data[:3]:\n",
    "    print(row)"
   ]
  },
  {
   "cell_type": "markdown",
   "metadata": {},
   "source": [
    "The first line is the header.\n",
    "\n",
    "Labels and messages are in the columns 1 and 2, respectively. \n",
    "\n",
    "We drop the header out and extract messages and labels into separate lists."
   ]
  },
  {
   "cell_type": "code",
   "execution_count": null,
   "metadata": {},
   "outputs": [],
   "source": [
    "data_lab = [row[1] for row in raw_data[1:]]\n",
    "data_mes = [row[2] for row in raw_data[1:]]\n",
    "print(data_lab[:3])\n",
    "print(data_mes[:3])"
   ]
  },
  {
   "cell_type": "markdown",
   "metadata": {},
   "source": [
    "Just to check if the labels are indeed 'spam' and 'ham':"
   ]
  },
  {
   "cell_type": "code",
   "execution_count": null,
   "metadata": {},
   "outputs": [],
   "source": [
    "print(set(data_lab))"
   ]
  },
  {
   "cell_type": "markdown",
   "metadata": {},
   "source": [
    "Check the size of the dataset:"
   ]
  },
  {
   "cell_type": "code",
   "execution_count": null,
   "metadata": {},
   "outputs": [],
   "source": [
    "print(len(data_lab))"
   ]
  },
  {
   "cell_type": "markdown",
   "metadata": {},
   "source": [
    "Let us see if the dataset is balanced."
   ]
  },
  {
   "cell_type": "code",
   "execution_count": null,
   "metadata": {},
   "outputs": [],
   "source": [
    "import matplotlib.pyplot as plt\n",
    "\n",
    "fig, ax = plt.subplots()\n",
    "ax.hist(data_lab, bins=2);"
   ]
  },
  {
   "cell_type": "markdown",
   "metadata": {},
   "source": [
    "No, the dataset is not balanced. We need to use recall, precision and F1-score to evaluate a model performance."
   ]
  },
  {
   "cell_type": "markdown",
   "metadata": {},
   "source": [
    "Now we split the dataset into training and testing parts. Validations is not required for this model."
   ]
  },
  {
   "cell_type": "code",
   "execution_count": null,
   "metadata": {},
   "outputs": [],
   "source": [
    "from sklearn.model_selection import train_test_split\n",
    "\n",
    "p_test = 0.1\n",
    "n_test = round(p_test * len(data_lab))\n",
    "\n",
    "X_train, X_test, y_train, y_test = train_test_split(data_mes, data_lab, random_state=0, \n",
    "                                                    test_size=n_test, shuffle=True)\n",
    "\n",
    "print(f\"train size {len(y_train)}\")\n",
    "print(f\" test size {len(y_test)}\")"
   ]
  },
  {
   "cell_type": "markdown",
   "metadata": {},
   "source": [
    "Create classifier and train it"
   ]
  },
  {
   "cell_type": "code",
   "execution_count": null,
   "metadata": {},
   "outputs": [],
   "source": [
    "nbc = NaiveBayes(k=1, drop_short=2)\n",
    "nbc.fit(X_train, y_train)"
   ]
  },
  {
   "cell_type": "markdown",
   "metadata": {},
   "source": [
    "Let us now test the model."
   ]
  },
  {
   "cell_type": "code",
   "execution_count": null,
   "metadata": {},
   "outputs": [],
   "source": [
    "y_pred = nbc.predict(X_test)"
   ]
  },
  {
   "cell_type": "markdown",
   "metadata": {},
   "source": [
    "We use `sklearn` library to evaluate performance"
   ]
  },
  {
   "cell_type": "code",
   "execution_count": null,
   "metadata": {},
   "outputs": [],
   "source": [
    "from sklearn import metrics\n",
    "\n",
    "acc = metrics.accuracy_score(y_test, y_pred)\n",
    "f1 = metrics.f1_score(y_test, y_pred, average='binary', pos_label='spam')\n",
    "\n",
    "print(f\"Accuracy = {acc:.4f}\")\n",
    "print(f\"F1-score = {f1:.4f}\")"
   ]
  },
  {
   "cell_type": "markdown",
   "metadata": {},
   "source": [
    "F1-scroe is not so high. Let us check what is the reason.\n",
    "\n",
    "Here are recall and precision. The function also returns support for multivariate metrics, but now we compute the binary one and it is empty. We ignore it, using `_` symbol."
   ]
  },
  {
   "cell_type": "code",
   "execution_count": null,
   "metadata": {},
   "outputs": [],
   "source": [
    "prec, rec, f1, _ = metrics.precision_recall_fscore_support(y_test, y_pred, average='binary', pos_label='spam')\n",
    "\n",
    "print(f\"Precision = {prec:.4f}\")\n",
    "print(f\"Recall    = {rec:.4f}\")\n",
    "print(f\"F1-score  = {f1:.4f}\")"
   ]
  },
  {
   "cell_type": "markdown",
   "metadata": {},
   "source": [
    "We see very the high precision and not so high recall. \n",
    "\n",
    "Let us remember: precision is a fraction of true positive predictions with respect of all positive predictions done by a binary classifier.\n",
    "\n",
    "Recall is a fraction of true positive predictions with respect of all positive cases in a dataset.\n",
    "\n",
    "In our case high precision indicates that if the filter reports 'spam' it will be true in 89 percent of cases.\n",
    "\n",
    "And it means that 11 percent of good messaged will be wrongly marked as 'spam'.\n",
    "\n",
    "Recall indicates that in the whole stream of messages only 71 percent of spam messages will be revealed and 29 percent of them will pass.\n",
    "\n",
    "This is not so bad for the spam filter. It is better to let some spam go then to mark as spam the expected message.\n",
    "\n",
    "Let us explore the vocabulary that is collected in the course of training. \n",
    "\n",
    "The method `.explore_vocab` computes the spam / ham scores and return the most spam"
   ]
  },
  {
   "cell_type": "code",
   "execution_count": null,
   "metadata": {},
   "outputs": [],
   "source": [
    "spam_words = nbc.explore_vocab()\n",
    "print(spam_words[:100])"
   ]
  },
  {
   "cell_type": "markdown",
   "metadata": {},
   "source": [
    "We see that there are many words that do not correspond to our intuition about what spam words can be. \n",
    "\n",
    "But nevertheless the filter works has not bad scores as we have seen above. \n",
    "\n",
    "It means that it detects spam on the basis of the word combinations."
   ]
  },
  {
   "cell_type": "markdown",
   "metadata": {},
   "source": [
    "### Toy gaussian naive Bayes classifier\n",
    "\n",
    "Above we considered categorical features: a token can be or can not be in the analyzed message.\n",
    "\n",
    "If the features (data columns) are floating point numbers the similar approach can be developed. \n",
    "\n",
    "But now the basic assumption is that values of each column are sampled from a Gaussian distribution and the columns have no pairwise correlation, i.e., are independent.\n",
    "\n",
    "Let us remember: Gaussian or also called normal distribution reads \n",
    "\n",
    "$$\n",
    "\\rho(x)=\\frac{1}{\\sigma\\sqrt{2\\pi}}\\mathrm{exp}\n",
    "\\left(\n",
    "-\\frac{(x-\\mu)^2}{2\\sigma^2}\n",
    "\\right)\n",
    "$$\n",
    "\n",
    "where $\\mu$ and $\\sigma$ are two its parameters, the mean and the standard deviation, respectively.\n",
    "\n",
    "Assume that we have a dataset with two real-valued features and two classes.\n",
    "\n",
    "| weight (g.) | diameter (cm.) | label  |\n",
    "|-------------|----------------|--------|\n",
    "| 150         | 10.2           | orange |\n",
    "| 120         | 12.1           | orange |\n",
    "| 98          | 10.5           | orange |\n",
    "| 140         | 9.6            | orange |\n",
    "| 95          | 10.0           | apple  |\n",
    "| 105         | 8.5            | apple  |\n",
    "| 90          | 9.3            | apple  |\n",
    "| 94          | 9.8            | apple  |\n",
    "| 101         | 10.1           | apple  |\n",
    "\n",
    "Let us create a Gaussian naive Bayes classifier using these data."
   ]
  },
  {
   "cell_type": "code",
   "execution_count": null,
   "metadata": {},
   "outputs": [],
   "source": [
    "weight = np.array([150, 120, 98, 140, 95, 105, 90, 94, 101])\n",
    "diameter = np.array([10.2, 12.1, 10.5, 9.6, 10.0, 8.5, 9.3, 9.8, 10.1])\n",
    "label = np.array(['orange'] * 4 + ['apple'] * 5)"
   ]
  },
  {
   "cell_type": "markdown",
   "metadata": {},
   "source": [
    "First we have to compute mean $\\mu$ and standard deviation $\\sigma$ for each feature and each class.\n",
    "\n",
    "We compute mean values and standard deviations for conditional distributions:\n",
    "- weights of oranges\n",
    "- weights of apples\n",
    "- diameters of oranges\n",
    "- diameters of apples"
   ]
  },
  {
   "cell_type": "code",
   "execution_count": null,
   "metadata": {},
   "outputs": [],
   "source": [
    "mu_std_w_o = (np.mean(weight[label=='orange']), np.std(weight[label=='orange']))\n",
    "mu_std_w_a = (np.mean(weight[label=='apple']),  np.std(weight[label=='apple']))\n",
    "\n",
    "mu_std_d_o = (np.mean(diameter[label=='orange']), np.std(diameter[label=='orange']))\n",
    "mu_std_d_a = (np.mean(diameter[label=='apple']),  np.std(diameter[label=='apple']))"
   ]
  },
  {
   "cell_type": "markdown",
   "metadata": {},
   "source": [
    "Also we need the marginal probabilities of each class:"
   ]
  },
  {
   "cell_type": "code",
   "execution_count": null,
   "metadata": {},
   "outputs": [],
   "source": [
    "p_o = len(label[label=='orange']) / len(label)\n",
    "p_a = len(label[label=='apple']) / len(label)\n",
    "assert p_o + p_a == 1"
   ]
  },
  {
   "cell_type": "markdown",
   "metadata": {},
   "source": [
    "This is Gaussian distribution with given $\\mu$ and $\\sigma$. "
   ]
  },
  {
   "cell_type": "code",
   "execution_count": null,
   "metadata": {},
   "outputs": [],
   "source": [
    "def p_gauss(x, mu_std):\n",
    "    mu, std = mu_std\n",
    "    return np.exp(-(x-mu)**2 / (2*std*std)) / (std * np.sqrt(2*np.pi))"
   ]
  },
  {
   "cell_type": "markdown",
   "metadata": {},
   "source": [
    "Now we a ready to test our model. \n",
    "\n",
    "Lets us find a most probable class for a fruit with a certain weight and diameter."
   ]
  },
  {
   "cell_type": "code",
   "execution_count": null,
   "metadata": {},
   "outputs": [],
   "source": [
    "w_test, d_test = 122, 9.9\n",
    "\n",
    "prob_if_orange = p_gauss(w_test, mu_std_w_o) * p_gauss(d_test, mu_std_d_o) * p_o\n",
    "prob_if_apple  = p_gauss(w_test, mu_std_w_a) * p_gauss(d_test, mu_std_d_a) * p_a\n",
    "\n",
    "print(f\"prob_if_orange={prob_if_orange:e}\")\n",
    "print(f\"prob_if_apple ={prob_if_apple:e}\")\n",
    "print(\"orange\" if prob_if_orange > prob_if_apple else \"apple\")"
   ]
  },
  {
   "cell_type": "markdown",
   "metadata": {},
   "source": [
    "Since `prob_if_orange > prob_if_apple` we conclude that this is an orange."
   ]
  },
  {
   "cell_type": "markdown",
   "metadata": {},
   "source": [
    "### Gaussian naive Bayes classifier\n",
    "\n",
    "Let us now consider Gaussian naive Bayes classifier from `sklearn`.\n",
    "\n",
    "We are going to created a model that will predict a car origin using its technical characteristics.\n",
    "\n",
    "First we need to download the dataset. The file is called 'cars.csv' and previously we already used it."
   ]
  },
  {
   "cell_type": "code",
   "execution_count": null,
   "metadata": {},
   "outputs": [],
   "source": [
    "import csv\n",
    "import numpy as np\n",
    "import requests\n",
    "\n",
    "def load_csv_dataset(file_name, dtype=float):\n",
    "    \"\"\"Downloads csv numeric dataset from repo to numpy array.\"\"\"\n",
    "    base_url = \"https://raw.githubusercontent.com/kupav/data-sc-intro/main/data/\"\n",
    "    web_data = requests.get(base_url + file_name)\n",
    "    assert web_data.status_code == 200\n",
    "    \n",
    "    reader = csv.reader(web_data.text.splitlines(), delimiter=';')\n",
    "    data = []\n",
    "    for row in reader:\n",
    "        try:\n",
    "            # Try to parse as a row of floats\n",
    "            float_row = [dtype(x) for x in row]\n",
    "            data.append(float_row)\n",
    "        except ValueError:\n",
    "            # If parsing as floats failed - this is header\n",
    "            print(row)\n",
    "            \n",
    "    return np.array(data)"
   ]
  },
  {
   "cell_type": "code",
   "execution_count": null,
   "metadata": {},
   "outputs": [],
   "source": [
    "raw_data = load_csv_dataset(\"cars.csv\", dtype=str)\n",
    "print(raw_data[:5])"
   ]
  },
  {
   "cell_type": "markdown",
   "metadata": {},
   "source": [
    "The first row contains columns headers, the second one provides information about the types.\n",
    "\n",
    "We use as data the whole table except the first and the last columns.\n",
    "\n",
    "The first one, car name, will be merely omitted, and the last one 'Origin' will be \n",
    "considered as class labels."
   ]
  },
  {
   "cell_type": "code",
   "execution_count": null,
   "metadata": {},
   "outputs": [],
   "source": [
    "feature_names = raw_data[0, 1:-1]\n",
    "data = raw_data[2:, 1:-1].astype(float)\n",
    "str_targets = raw_data[2:, -1]\n",
    "print(feature_names)\n",
    "print(data[:5])\n",
    "print(str_targets[:5])"
   ]
  },
  {
   "cell_type": "markdown",
   "metadata": {},
   "source": [
    "Let us generate unique labels and dictionaries to map from labels to numerical codes. "
   ]
  },
  {
   "cell_type": "code",
   "execution_count": null,
   "metadata": {},
   "outputs": [],
   "source": [
    "unique_targets = list(set(str_targets))\n",
    "print(unique_targets)\n",
    "enum_targets = list(enumerate(unique_targets))\n",
    "print(enum_targets)"
   ]
  },
  {
   "cell_type": "code",
   "execution_count": null,
   "metadata": {},
   "outputs": [],
   "source": [
    "code2label = dict(enum_targets)\n",
    "print(code2label)"
   ]
  },
  {
   "cell_type": "code",
   "execution_count": null,
   "metadata": {},
   "outputs": [],
   "source": [
    "label2code = {v: k for k, v in code2label.items()}\n",
    "print(label2code)"
   ]
  },
  {
   "cell_type": "markdown",
   "metadata": {},
   "source": [
    "Using the dictionary we encode each country name with the corresponding numerical code."
   ]
  },
  {
   "cell_type": "code",
   "execution_count": null,
   "metadata": {},
   "outputs": [],
   "source": [
    "targets = np.array([label2code[lab] for lab in str_targets])\n",
    "print(targets[:50])"
   ]
  },
  {
   "cell_type": "markdown",
   "metadata": {},
   "source": [
    "Let us check the balance."
   ]
  },
  {
   "cell_type": "code",
   "execution_count": null,
   "metadata": {},
   "outputs": [],
   "source": [
    "import matplotlib.pyplot as plt\n",
    "\n",
    "fig, ax = plt.subplots()\n",
    "ax.hist(str_targets, bins=3);"
   ]
  },
  {
   "cell_type": "markdown",
   "metadata": {},
   "source": [
    "We see that US appears much more often - the dataset is highly unbalanced.\n",
    "\n",
    "Accuracy metrics will not be informative in this case. F1-scores will be computed.\n",
    "\n",
    "The shape of our dataset is as follows"
   ]
  },
  {
   "cell_type": "code",
   "execution_count": null,
   "metadata": {},
   "outputs": [],
   "source": [
    "print(data.shape)"
   ]
  },
  {
   "cell_type": "markdown",
   "metadata": {},
   "source": [
    "Split it into training and testing parts. \n",
    "\n",
    "No validation will be performed."
   ]
  },
  {
   "cell_type": "code",
   "execution_count": null,
   "metadata": {},
   "outputs": [],
   "source": [
    "from sklearn.model_selection import train_test_split\n",
    "\n",
    "p_test = 0.2\n",
    "\n",
    "n_test = round(len(data) * p_test)\n",
    "\n",
    "X_train, X_test, y_train, y_test = train_test_split(\n",
    "    data, targets, random_state=0, test_size=n_test, shuffle=True)\n",
    "\n",
    "print(X_train.shape)\n",
    "print(X_test.shape)"
   ]
  },
  {
   "cell_type": "markdown",
   "metadata": {},
   "source": [
    "Finally, create a model and train it."
   ]
  },
  {
   "cell_type": "code",
   "execution_count": null,
   "metadata": {},
   "outputs": [],
   "source": [
    "from sklearn.naive_bayes import GaussianNB\n",
    "\n",
    "gnb = GaussianNB()\n",
    "gnb.fit(X_train, y_train)\n",
    "\n",
    "y_pred = gnb.predict(X_test)"
   ]
  },
  {
   "cell_type": "markdown",
   "metadata": {},
   "source": [
    "This is a performance evaluation."
   ]
  },
  {
   "cell_type": "code",
   "execution_count": null,
   "metadata": {},
   "outputs": [],
   "source": [
    "from sklearn import metrics\n",
    "\n",
    "print(metrics.classification_report(y_test, y_pred, target_names=unique_targets, digits=3))"
   ]
  },
  {
   "cell_type": "markdown",
   "metadata": {},
   "source": [
    "We see that the model revels good only US cars. Corresponding precision and recall are 96 percent and 79 percent, respectively.\n",
    "\n",
    "For other cars the performance is not so good."
   ]
  },
  {
   "cell_type": "markdown",
   "metadata": {},
   "source": [
    "### Strengths and weaknesses of naive Bayes classifier\n",
    "\n",
    "Strong points:\n",
    "\n",
    "- Easy to implement, works fast\n",
    "- Can be used on datasets with combined categorical and numerical data (Gaussian probabilities are combined with the multinomial)\n",
    "\n",
    "Weak points:\n",
    "\n",
    "- If categorical variable has a category, which was not observed in training data set, then model will assign a 0 (zero) probability and will be unable to make a prediction. Artificial fix is required, e.g., pseudocount.\n",
    "- Computed values can be used only for finding maximum likelihood. Estimated probabilities are not to be taken too seriously\n",
    "    \n",
    "Applications of naive Bayes classifiers:\n",
    "\n",
    "- Real time Prediction: Naive Bayes is an eager learning classifier and it is sure fast. Thus, it could be used for making predictions in real time.\n",
    "- Multi class Prediction: This algorithm is also well known for multi class prediction feature. \n",
    "- Text classification, spam filtering, sentiment analysis: Naive Bayes classifiers mostly used in text classification (due to better result in multi class problems and independence rule) have higher success rate as compared to other algorithms. As a result, it is widely used in Spam filtering (identify spam e-mail) and Sentiment Analysis (in social media analysis, to identify positive and negative customer sentiments)\n",
    "- Recommendation system: Naive Bayes classifier are used to predict whether a user would like a given resource or not"
   ]
  },
  {
   "cell_type": "markdown",
   "metadata": {},
   "source": [
    "### Exercises\n",
    "\n",
    "1\\. Describe in writing what an assumption is made when a naive Bayes classifier is created. Why the classifier is naive?\n",
    "\n",
    "2\\. Describe in writing what means maximum likelihood?\n",
    "\n",
    "3\\. Make a copy of a naive Bayes classifier that we used above to create a spam filter and try to improve its performance.\n",
    "Split the data set into training, validation and test data. Select the best model using the validation dataset and then compute your final score on the testing data. To improve the model for example the whole message content can be taken into account instead of the subject only. Also lengths of tokens that are taken into account can be varied. May be it would be interesting to split the messages into digramms: couples of words going one after another. And so on.\n",
    "\n",
    "4\\. Try to improve the Gaussian naive Bayes classifier. Split the data set into training, validation and test data. Select the best model using the validation dataset and then compute your final score on the testing data. \n",
    "\n",
    "5\\. Previously we discussed that in the most cases data must be standardized before creation of a machine learning model. Why it does not influences the performance of a Gaussian naive Bayes classifier?"
   ]
  },
  {
   "cell_type": "code",
   "execution_count": null,
   "metadata": {},
   "outputs": [],
   "source": []
  }
 ],
 "metadata": {
  "kernelspec": {
   "display_name": "Python 3",
   "language": "python",
   "name": "python3"
  },
  "language_info": {
   "codemirror_mode": {
    "name": "ipython",
    "version": 3
   },
   "file_extension": ".py",
   "mimetype": "text/x-python",
   "name": "python",
   "nbconvert_exporter": "python",
   "pygments_lexer": "ipython3",
   "version": "3.9.2"
  },
  "nbTranslate": {
   "displayLangs": [
    "*"
   ],
   "hotkey": "alt-t",
   "langInMainMenu": true,
   "sourceLang": "ru",
   "targetLang": "en",
   "useGoogleTranslate": true
  },
  "toc": {
   "base_numbering": 1,
   "nav_menu": {
    "height": "113px",
    "width": "228px"
   },
   "number_sections": true,
   "sideBar": true,
   "skip_h1_title": true,
   "title_cell": "Table of Contents",
   "title_sidebar": "Contents",
   "toc_cell": false,
   "toc_position": {
    "height": "calc(100% - 180px)",
    "left": "10px",
    "top": "150px",
    "width": "165px"
   },
   "toc_section_display": true,
   "toc_window_display": true
  }
 },
 "nbformat": 4,
 "nbformat_minor": 4
}
