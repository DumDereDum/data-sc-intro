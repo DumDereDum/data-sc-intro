{
 "cells": [
  {
   "cell_type": "markdown",
   "id": "a623787a",
   "metadata": {},
   "source": [
    "# lesson 1"
   ]
  },
  {
   "cell_type": "markdown",
   "id": "894e63da",
   "metadata": {},
   "source": [
    "1\\. Rolling two dice find the probability that they land with an even sum of points on top and at least one die has six points.\n"
   ]
  },
  {
   "cell_type": "code",
   "execution_count": 13,
   "id": "362e4a75",
   "metadata": {},
   "outputs": [
    {
     "name": "stdout",
     "output_type": "stream",
     "text": [
      "[2, 3, 4, 5, 6, 7]\n",
      "[3, 4, 5, 6, 7, 8]\n",
      "[4, 5, 6, 7, 8, 9]\n",
      "[5, 6, 7, 8, 9, 10]\n",
      "[6, 7, 8, 9, 10, 11]\n",
      "[7, 8, 9, 10, 11, 12]\n"
     ]
    }
   ],
   "source": [
    "N = 6\n",
    "results = []\n",
    "for i in range(N):\n",
    "    row = []\n",
    "    for j in range(N):\n",
    "        row.append(i+j+2)\n",
    "    results.append(row)\n",
    "for i in range(N):\n",
    "    print(results[i])"
   ]
  },
  {
   "cell_type": "code",
   "execution_count": 14,
   "id": "867bd7c2",
   "metadata": {},
   "outputs": [],
   "source": [
    "def condition(i, j, r):\n",
    "    return ( i == 6 or j == 6 ) and r % 2 == 0"
   ]
  },
  {
   "cell_type": "code",
   "execution_count": 15,
   "id": "18c047ef",
   "metadata": {},
   "outputs": [],
   "source": [
    "num = 0\n",
    "for i in range(N):\n",
    "    for j in range(N):\n",
    "        if condition(i+1, j+1, results[i][j]):\n",
    "            num+=1\n",
    "prob = num / (N**2)"
   ]
  },
  {
   "cell_type": "code",
   "execution_count": 16,
   "id": "260ddb9c",
   "metadata": {},
   "outputs": [
    {
     "name": "stdout",
     "output_type": "stream",
     "text": [
      "probability: 0.1388888888888889\n"
     ]
    }
   ],
   "source": [
    "print(\"probability: {}\".format(prob))"
   ]
  },
  {
   "cell_type": "code",
   "execution_count": null,
   "id": "a3de7c7d",
   "metadata": {},
   "outputs": [],
   "source": []
  },
  {
   "cell_type": "markdown",
   "id": "6df19fa0",
   "metadata": {},
   "source": [
    "2\\. Consider a game where your score is the maximum value from two dice. Compute the probability of each event from 1 to 6.\n"
   ]
  },
  {
   "cell_type": "code",
   "execution_count": 19,
   "id": "9c780572",
   "metadata": {},
   "outputs": [],
   "source": [
    "def compute_prob_of_num(num, N):\n",
    "    tmp = 0\n",
    "    for i in range(1, N+1):\n",
    "        for j in range(1, N+1):\n",
    "            if (i <= num and j == num) or (i == num and j <= num):\n",
    "                tmp+=1\n",
    "    return tmp / (N**2)"
   ]
  },
  {
   "cell_type": "code",
   "execution_count": 22,
   "id": "9f5e8353",
   "metadata": {},
   "outputs": [
    {
     "name": "stdout",
     "output_type": "stream",
     "text": [
      "probability of 1: 0.027777777777777776\n",
      "probability of 2: 0.08333333333333333\n",
      "probability of 3: 0.1388888888888889\n",
      "probability of 4: 0.19444444444444445\n",
      "probability of 5: 0.25\n",
      "probability of 6: 0.3055555555555556\n",
      "check: 1 == 1.0\n"
     ]
    }
   ],
   "source": [
    "check = []\n",
    "for i in range(1, N+1):\n",
    "    prob = compute_prob_of_num(i, N)\n",
    "    check.append(prob)\n",
    "    print(\"probability of {}: {}\".format(i, prob))\n",
    "print(\"check: 1 == {}\".format(sum(check)))"
   ]
  },
  {
   "cell_type": "code",
   "execution_count": null,
   "id": "541b6715",
   "metadata": {},
   "outputs": [],
   "source": []
  },
  {
   "cell_type": "markdown",
   "id": "ec169d53",
   "metadata": {},
   "source": [
    "# lesson 2"
   ]
  },
  {
   "cell_type": "markdown",
   "id": "dc111e26",
   "metadata": {},
   "source": [
    "5\\. A random variable $x$ belongs to the interval between $0$ and $2$ and the probability that $x<x_1$ is proportional to $x_1^2$. Plot its CDF.\n"
   ]
  },
  {
   "cell_type": "code",
   "execution_count": 35,
   "id": "2d684124",
   "metadata": {},
   "outputs": [],
   "source": [
    "import numpy as np\n",
    "import matplotlib.pyplot as plt"
   ]
  },
  {
   "cell_type": "code",
   "execution_count": 47,
   "id": "322c812d",
   "metadata": {},
   "outputs": [],
   "source": [
    "def unif_cdf(x):\n",
    "    \"\"\"CDF for uniform distribution\"\"\"\n",
    "    if x < 0:\n",
    "        return 0\n",
    "    elif x <= 2:\n",
    "        return x**2/4\n",
    "    else:\n",
    "        return 1"
   ]
  },
  {
   "cell_type": "code",
   "execution_count": 48,
   "id": "429a8bfa",
   "metadata": {},
   "outputs": [
    {
     "data": {
      "image/png": "[encoded data removed]",
      "text/plain": [
       "<Figure size 640x480 with 1 Axes>"
      ]
     },
     "metadata": {},
     "output_type": "display_data"
    }
   ],
   "source": [
    "x = np.linspace(-0.5, 2.5, 1000)\n",
    "y_cdf = [unif_cdf(xi) for xi in x]\n",
    "\n",
    "plt.plot(x, y_cdf)\n",
    "\n",
    "plt.title(\"CDF\")\n",
    "plt.xlabel(r'$x$')\n",
    "plt.ylabel(r'$\\phi$')\n",
    "plt.grid()"
   ]
  },
  {
   "cell_type": "code",
   "execution_count": null,
   "id": "b74ae5d0",
   "metadata": {},
   "outputs": [],
   "source": []
  },
  {
   "cell_type": "markdown",
   "id": "100f296a",
   "metadata": {},
   "source": [
    "6\\. In this exercise you have a random variable $x$ that belongs to the interval between 0 and 1 and its PDF is proportional to $x$. Plot the graph of this PDF. Do not forget about its proper normalization.\n"
   ]
  },
  {
   "cell_type": "code",
   "execution_count": 49,
   "id": "af1c31ce",
   "metadata": {},
   "outputs": [],
   "source": [
    "def my_pdf(x):\n",
    "    \"\"\"PDF for uniform distribution\"\"\"\n",
    "    if x < 0:\n",
    "        return 0\n",
    "    elif x <= 1:\n",
    "        return x+0.5\n",
    "    else:\n",
    "        return 0"
   ]
  },
  {
   "cell_type": "code",
   "execution_count": 50,
   "id": "0d2a85d4",
   "metadata": {},
   "outputs": [
    {
     "data": {
      "image/png": "[encoded data removed]",
      "text/plain": [
       "<Figure size 640x480 with 1 Axes>"
      ]
     },
     "metadata": {},
     "output_type": "display_data"
    }
   ],
   "source": [
    "x = np.linspace(-0.5, 1.5, 1000)\n",
    "y_cdf = [my_pdf(xi) for xi in x]\n",
    "\n",
    "plt.plot(x, y_cdf)\n",
    "\n",
    "plt.title(\"PDF\")\n",
    "plt.xlabel(r'$x$')\n",
    "plt.ylabel(r'$\\phi$')\n",
    "plt.grid()"
   ]
  },
  {
   "cell_type": "code",
   "execution_count": null,
   "id": "5af51c63",
   "metadata": {},
   "outputs": [],
   "source": []
  }
 ],
 "metadata": {
  "kernelspec": {
   "display_name": "Python 3 (ipykernel)",
   "language": "python",
   "name": "python3"
  },
  "language_info": {
   "codemirror_mode": {
    "name": "ipython",
    "version": 3
   },
   "file_extension": ".py",
   "mimetype": "text/x-python",
   "name": "python",
   "nbconvert_exporter": "python",
   "pygments_lexer": "ipython3",
   "version": "3.9.13"
  }
 },
 "nbformat": 4,
 "nbformat_minor": 5
}
