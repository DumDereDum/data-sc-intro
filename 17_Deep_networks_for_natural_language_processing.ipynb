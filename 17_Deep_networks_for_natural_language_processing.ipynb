{
 "cells": [
  {
   "cell_type": "markdown",
   "metadata": {},
   "source": [
    "# 17 Deep networks for natural language processing\n",
    "\n",
    "Part of [\"Introduction to Data Science\" course](https://github.com/kupav/data-sc-intro) by Pavel Kuptsov, [kupav@mail.ru](mailto:kupav@mail.ru)\n",
    "\n",
    "Recommended reading for this section:\n",
    "\n",
    "1. A. Kedia and M. Rasu (2020) Hands-On Python Natural Language Processing. Packt Publishing\n",
    "\n",
    "The following Python modules will be required. Make sure that you have them installed.\n",
    "- `matplotlib`\n",
    "- `requests`\n",
    "- `tensorflow`\n",
    "- `re`\n",
    "- `sklearn`\n",
    "- `json`\n",
    "- `zipfile`\n",
    "- `nltk`\n",
    "- `spacy`\n",
    "- `gensim`\n",
    "- `numpy`"
   ]
  },
  {
   "cell_type": "markdown",
   "metadata": {},
   "source": [
    "This lecture will closely follow the book \\[1\\]."
   ]
  },
  {
   "cell_type": "markdown",
   "metadata": {},
   "source": [
    "## Lesson 1"
   ]
  },
  {
   "cell_type": "markdown",
   "metadata": {},
   "source": [
    "### Required initialization and helper functions\n",
    "\n",
    "Before we begin some initialization is required"
   ]
  },
  {
   "cell_type": "code",
   "execution_count": null,
   "metadata": {},
   "outputs": [],
   "source": [
    "import tensorflow as tf\n",
    "\n",
    "# This initialization code is required due to an error \n",
    "# \"NotFoundError: No algorithm worked\"\n",
    "# when using Conv2D\n",
    "# Probabliy due to problems with cuda 11.\n",
    "# Remove this when fixed\n",
    "# https://github.com/tensorflow/tensorflow/issues/43174\n",
    "from tensorflow.compat.v1 import ConfigProto\n",
    "from tensorflow.compat.v1 import InteractiveSession\n",
    "\n",
    "config = ConfigProto()\n",
    "config.gpu_options.allow_growth = True\n",
    "session = InteractiveSession(config=config)"
   ]
  },
  {
   "cell_type": "code",
   "execution_count": null,
   "metadata": {},
   "outputs": [],
   "source": [
    "from tensorflow.keras.models import Sequential\n",
    "from tensorflow.keras.layers import Dense, Conv1D, GlobalMaxPooling1D, Dropout, LSTM, Embedding\n",
    "from tensorflow.keras.losses import CategoricalCrossentropy, BinaryCrossentropy"
   ]
  },
  {
   "cell_type": "markdown",
   "metadata": {},
   "source": [
    "The function `plot_hist` below plots learning curves: loss and accuracy vs. epoch of training.\n",
    "\n",
    "It accepts a lits of training histories `hist_list` computed for different networks and plots them as row of images."
   ]
  },
  {
   "cell_type": "code",
   "execution_count": null,
   "metadata": {},
   "outputs": [],
   "source": [
    "import matplotlib.pyplot as plt\n",
    "\n",
    "def plot_hist_one(hist, name, axs):\n",
    "    \"\"\"Plot one loss and accuracy\"\"\"\n",
    "    epochs = len(hist.history['loss'])\n",
    "    xs = list(range(epochs))\n",
    "    \n",
    "    ax = axs[0]\n",
    "    ax.plot(xs, hist.history['loss'], label='loss')\n",
    "    ax.plot(xs, hist.history['val_loss'], label='val_loss')\n",
    "    ax.set_ylabel('loss')\n",
    "    ax.set_yscale('log')\n",
    "\n",
    "    ax = axs[1]\n",
    "    ax.plot(xs, hist.history['accuracy'], label='accuracy');\n",
    "    ax.plot(xs, hist.history['val_accuracy'], label='val_accuracy');\n",
    "    ax.set_ylabel('accuracy')\n",
    "\n",
    "    for ax in axs:\n",
    "        ax.grid()\n",
    "        ax.set_xlabel('epoch')\n",
    "        ax.legend(title=name)    \n",
    "\n",
    "def plot_hist(hist_list, hist_names):\n",
    "    \"\"\"Plot loss and accuracy for many network\"\"\"\n",
    "    N = len(hist_list)\n",
    "    fig, axs = plt.subplots(nrows=N, ncols=2, figsize=(10, 3*N))\n",
    "    if N == 1:\n",
    "        axs = [axs]\n",
    "    for hist, name, ax in zip(hist_list, hist_names, axs):\n",
    "        plot_hist_one(hist, name, ax)\n",
    "    plt.tight_layout()"
   ]
  },
  {
   "cell_type": "markdown",
   "metadata": {},
   "source": [
    "### Dense network for document classification\n",
    "\n",
    "In this section we will consider supervised learning model able to perform classification of document.\n",
    "\n",
    "We will learn it to to classify questions. \n",
    "\n",
    "The training dataset is a corpus of questions labeled by one of six categories. \n",
    "\n",
    "The purpose is to create a model that accepts a question as its input and predicts its category at the output.\n",
    "\n",
    "Obviously taking other datasets one can use this approach to train a spam filter or create a model for sentiment analysis.\n",
    "\n",
    "We need a function for downloading a dataset from a course repository."
   ]
  },
  {
   "cell_type": "code",
   "execution_count": null,
   "metadata": {},
   "outputs": [],
   "source": [
    "import requests\n",
    "import matplotlib.pyplot as plt\n",
    "\n",
    "def load_txt_dataset(file_name, dtype=float):\n",
    "    \"\"\"Downloads txt dataset from repo.\"\"\"\n",
    "    base_url = \"https://raw.githubusercontent.com/kupav/data-sc-intro/main/data/\"\n",
    "    web_data = requests.get(base_url + file_name)\n",
    "    assert web_data.status_code == 200\n",
    "    return web_data.text.splitlines()"
   ]
  },
  {
   "cell_type": "markdown",
   "metadata": {},
   "source": [
    "The dataset we use is takes at url https://cogcomp.seas.upenn.edu/Data/QA/QC/ and copied to the course repository for convenience.\n",
    "\n",
    "Let us download the dataset and what is it."
   ]
  },
  {
   "cell_type": "code",
   "execution_count": null,
   "metadata": {},
   "outputs": [],
   "source": [
    "raw_corpus = load_txt_dataset(\"illinois_univ_lab_quest.txt\")\n",
    "for doc in raw_corpus[:10]:\n",
    "    print(doc)\n",
    "print(f\"\\nTotally {len(raw_corpus)} records\")"
   ]
  },
  {
   "cell_type": "markdown",
   "metadata": {},
   "source": [
    "We have a list of records, each one contains a questions itself and its category. \n",
    "\n",
    "The lits of the categories is\n",
    "- ABBREVIATION\n",
    "- ENTITY\n",
    "- DESCRIPTION\n",
    "- HUMAN\n",
    "- LOCATION\n",
    "- NUMERIC\n",
    "\n",
    "Moreover each category is supplied with a more fine features after column, e.g. \"DESC:manner\" or \"ABBR:exp\". \n",
    "\n",
    "We will omit them and preserve only the course classes written with capital letters.\n",
    "\n",
    "We need to parse each line to split questions and their categories.\n",
    "\n",
    "It can be done with a regular expressions with the pattern `([A-Z]+):[a-z]+\\s(.+)`\n",
    "\n",
    "Before processing the whole corpus let us see how it works.\n",
    "\n",
    "It has two blocks wrapped with parentheses: `([A-Z]+)` and `(.+)`. They are called groups and highlight what we want to catch:\n",
    "\n",
    "- `([A-Z]+)`: the first group matches one or more capital letters staring from the very beginning. It will catch category names.\n",
    "- `:[a-z]+\\s`: colon followed by one or more lowercase letters followed by space. It matches fine category description that have to be omitted.\n",
    "- `(.+)`: the second group to catch, any letters up to the end.\n",
    "\n",
    "Here is an example that shows how it works."
   ]
  },
  {
   "cell_type": "code",
   "execution_count": null,
   "metadata": {},
   "outputs": [],
   "source": [
    "import re\n",
    "\n",
    "rge = re.compile(r\"([A-Z]+):[a-z]+\\s(.+)\")\n",
    "\n",
    "for doc in raw_corpus[:10]:\n",
    "    print(rge.findall(doc))"
   ]
  },
  {
   "cell_type": "markdown",
   "metadata": {},
   "source": [
    "Now we are ready to extract lists of questions and category names from our corpus."
   ]
  },
  {
   "cell_type": "code",
   "execution_count": null,
   "metadata": {},
   "outputs": [],
   "source": [
    "import re\n",
    "\n",
    "txt = raw_corpus[:10]\n",
    "\n",
    "rge = re.compile(r\"([A-Z]+):[a-z]+\\s(.+)\")\n",
    "\n",
    "quests = []\n",
    "categs = []\n",
    "for doc in raw_corpus:\n",
    "    result = rge.findall(doc)\n",
    "    categs.append(result[0][0])\n",
    "    quests.append(result[0][1])\n",
    "\n",
    "for c, q in zip(categs[:10], quests[:10]):    \n",
    "    print(c, q)"
   ]
  },
  {
   "cell_type": "markdown",
   "metadata": {},
   "source": [
    "Let us analyze what are the questions and what are the categories.\n",
    "\n",
    "For convenience we define a dictionary that maps shorten forms of category names and print several questions from each category"
   ]
  },
  {
   "cell_type": "code",
   "execution_count": null,
   "metadata": {},
   "outputs": [],
   "source": [
    "full_categ_names = {\"ABBR\": \"ABBREVIATION\", \"ENTY\": \"ENTITY\", \"DESC\": \"DESCRIPTION\", \n",
    "                    \"HUM\": \"HUMAN\",  \"LOC\": \"LOCATION\", \"NUM\": \"NUMERIC\"}\n",
    "\n",
    "unique_categs = list(set(categs))\n",
    "N = 10\n",
    "for extracted_categ in unique_categs:\n",
    "    tmp = [q for q, c in zip(quests, categs) if c==extracted_categ]\n",
    "    print(full_categ_names[extracted_categ])\n",
    "    for q in tmp[:N]:\n",
    "        print(f\"\\t{q}\")"
   ]
  },
  {
   "cell_type": "markdown",
   "metadata": {},
   "source": [
    "As we discussed in previous lectures predicting categories requires converting them into one-hot form.\n",
    "\n",
    "There many ways to do it. Both tensorflow and numpy libraries provide the corresponding function. \n",
    "\n",
    "Let us check show it can be done using sklearn.\n",
    "\n",
    "This library suggests a class `OneHotEncoder` that converts a series or categorical features into one one-hot vectors.\n",
    "\n",
    "Here is an illustration:"
   ]
  },
  {
   "cell_type": "code",
   "execution_count": null,
   "metadata": {
    "scrolled": true
   },
   "outputs": [],
   "source": [
    "from sklearn.preprocessing import OneHotEncoder\n",
    "\n",
    "test = [['Male', 'Yang'], ['Female', 'Yang'], ['Female', 'Adult']]\n",
    "\n",
    "enc = OneHotEncoder()\n",
    "enc.fit(test)\n",
    "print(enc.categories_)\n",
    "print(enc.transform(test).toarray())"
   ]
  },
  {
   "cell_type": "markdown",
   "metadata": {},
   "source": [
    "If there is only one categorical features it still must be wrapped into a list like this:"
   ]
  },
  {
   "cell_type": "code",
   "execution_count": null,
   "metadata": {},
   "outputs": [],
   "source": [
    "from sklearn.preprocessing import OneHotEncoder\n",
    "\n",
    "test = [['Baby'], ['Yang'], ['Adult']]  # not just ['Baby', 'Yang', 'Adult']\n",
    "\n",
    "enc = OneHotEncoder()\n",
    "enc.fit(test)\n",
    "print(enc.categories_)\n",
    "print(enc.transform(test).toarray())"
   ]
  },
  {
   "cell_type": "markdown",
   "metadata": {},
   "source": [
    "We are ready to create one-hot vectors for our categories:"
   ]
  },
  {
   "cell_type": "code",
   "execution_count": null,
   "metadata": {},
   "outputs": [],
   "source": [
    "from sklearn.preprocessing import OneHotEncoder\n",
    "\n",
    "encoder = OneHotEncoder()\n",
    "categs1 = [[c] for c in categs]\n",
    "encoder.fit(categs1)\n",
    "print(encoder.categories_)\n",
    "num_categs = encoder.categories_[0].shape[0]\n",
    "print(num_categs)\n",
    "\n",
    "labels = encoder.transform(categs1).toarray()\n",
    "print(labels)"
   ]
  },
  {
   "cell_type": "markdown",
   "metadata": {},
   "source": [
    "Now the questions have to be prepared: cleaning, tokenization and normalization have be done.\n",
    "\n",
    "We take a copy of function for cleaning and tokenization from the previous lecture."
   ]
  },
  {
   "cell_type": "code",
   "execution_count": null,
   "metadata": {},
   "outputs": [],
   "source": [
    "import nltk\n",
    "\n",
    "def tokenize_and_clean(sentence):\n",
    "    \"\"\"Tokenize sentence and clean it.\n",
    "    \"\"\"\n",
    "    raw_tokens = nltk.word_tokenize(sentence)\n",
    "    tokens = []\n",
    "    for tok in raw_tokens:\n",
    "        t1 = tok[1:] if tok[0] == \"'\" else tok  # we do not want to remove tokens like \"'ve\" \n",
    "        if t1.isalpha():\n",
    "            tokens.append(tok.lower())\n",
    "    return tokens"
   ]
  },
  {
   "cell_type": "markdown",
   "metadata": {},
   "source": [
    "Now we create TF-IDF representation for questions. \n",
    "\n",
    "We copy a code from a previous lecture with a small modification: cleaning has been added and nltk tokenizer is used.\n",
    "\n",
    "Removing stopwords we have to preserve \"wh-\" words: we are dealing with questions and these words are meaningful."
   ]
  },
  {
   "cell_type": "code",
   "execution_count": null,
   "metadata": {},
   "outputs": [],
   "source": [
    "from sklearn.feature_extraction.text import TfidfVectorizer\n",
    "nltk.download('stopwords')\n",
    "\n",
    "stemmer = nltk.stem.snowball.SnowballStemmer(language = 'english')\n",
    "\n",
    "wh_words = set(['who', 'what', 'when', 'why', 'how', 'which', 'where', 'whom'])\n",
    "stop = set(nltk.corpus.stopwords.words('english')) - wh_words\n",
    "\n",
    "def stemmed_tokenizer(doc):\n",
    "    raw_tokens = tokenize_and_clean(doc)\n",
    "    tokens = [tok for tok in raw_tokens if tok not in stop]\n",
    "    stem_tokens = [stemmer.stem(tok) for tok in tokens]\n",
    "    return stem_tokens\n",
    "\n",
    "vectorizer = TfidfVectorizer(tokenizer=stemmed_tokenizer)\n",
    "tfidf_quests = vectorizer.fit_transform(quests);"
   ]
  },
  {
   "cell_type": "markdown",
   "metadata": {},
   "source": [
    "The result of the vectorization is a matrix of TF-IDF vectors, one row for one question. "
   ]
  },
  {
   "cell_type": "code",
   "execution_count": null,
   "metadata": {},
   "outputs": [],
   "source": [
    "print(tfidf_quests.toarray().shape)\n",
    "print(labels.shape)"
   ]
  },
  {
   "cell_type": "markdown",
   "metadata": {},
   "source": [
    "Split the whole dataset into testing and training parts."
   ]
  },
  {
   "cell_type": "code",
   "execution_count": null,
   "metadata": {},
   "outputs": [],
   "source": [
    "from sklearn.model_selection import train_test_split\n",
    "\n",
    "p_test = 0.1\n",
    "n_test = round(p_test * labels.shape[0])\n",
    "\n",
    "X_train, X_test, y_train, y_test = train_test_split(tfidf_quests.toarray(), labels, random_state=0, \n",
    "                                                    test_size=n_test, shuffle=True)\n",
    "\n",
    "print(f\"train size {len(y_train)}\")\n",
    "print(f\" test size {len(y_test)}\")"
   ]
  },
  {
   "cell_type": "markdown",
   "metadata": {},
   "source": [
    "Now everything is ready to create and train a model.\n",
    "\n",
    "It will be simple two layer model.\n",
    "\n",
    "However, preliminary tests have shown that it is prone to a strong overfitting. \n",
    "\n",
    "We fight it using two tools. \n",
    "\n",
    "First is already known dropout. Let us remember that it temporarily stops training of some of neurons and thus force model to find generalization of the data instead of mere remembering.\n",
    "\n",
    "Another remedy is regularization of neuron weights: observe parameter `tf.keras.regularizers.l2` of the first dense layer.\n",
    "\n",
    "It adds sum of squared neuron weights directly to the loss function multiplied by the coefficient `l2=0.01`. \n",
    "\n",
    "This coefficient controls the penalty level applied for too high by magnitude values of weights.\n",
    "\n",
    "As a result during training the optimization algorithm seeks for the minimum of the loss function provided that the neuron coefficients are as small as possible.\n",
    "\n",
    "It reduces the information capacity of a network and thus reduces the overfitting."
   ]
  },
  {
   "cell_type": "code",
   "execution_count": null,
   "metadata": {
    "scrolled": true
   },
   "outputs": [],
   "source": [
    "input_shape = X_train.shape[1:]\n",
    "\n",
    "model = Sequential([\n",
    "    Dense(256, input_shape=input_shape, activation='relu', \n",
    "          kernel_regularizer=tf.keras.regularizers.l2(l2=0.01)),\n",
    "    Dropout(0.8),\n",
    "    Dense(num_categs)\n",
    "])\n",
    "\n",
    "model.compile(optimizer='adam',  \n",
    "             loss=CategoricalCrossentropy(from_logits=True),\n",
    "             metrics=['accuracy'])\n",
    "\n",
    "model.summary()"
   ]
  },
  {
   "cell_type": "code",
   "execution_count": null,
   "metadata": {
    "scrolled": true
   },
   "outputs": [],
   "source": [
    "hist = model.fit(X_train, y_train, epochs=50, validation_split=0.2, verbose=2)"
   ]
  },
  {
   "cell_type": "code",
   "execution_count": null,
   "metadata": {},
   "outputs": [],
   "source": [
    "plot_hist([hist], [\"questions classification\"])"
   ]
  },
  {
   "cell_type": "code",
   "execution_count": null,
   "metadata": {},
   "outputs": [],
   "source": [
    "acc, loss = model.evaluate(X_test, y_test)\n",
    "print(f\"acc={acc}, loss={loss}\")"
   ]
  },
  {
   "cell_type": "markdown",
   "metadata": {},
   "source": [
    "We have trained our model not so long so its accuracy is at the level of 80\\%. More epochs of training are required to attain higher performance.\n",
    "\n",
    "Let us check how the model can work.\n",
    "\n",
    "Here the steps that are required to ask a model to predict a question category:"
   ]
  },
  {
   "cell_type": "code",
   "execution_count": null,
   "metadata": {},
   "outputs": [],
   "source": [
    "q1 = \"Who Framed Roger Rabbit?\"\n",
    "\n",
    "vec = vectorizer.transform([q1]).toarray()\n",
    "y_pred = model.predict(vec)\n",
    "print(y_pred)\n",
    "cat_pred = tf.argmax(y_pred, axis=1).numpy()\n",
    "print(cat_pred)\n",
    "cat_pref = cat_pred[0]\n",
    "encoder.categories_[0][cat_pred]"
   ]
  },
  {
   "cell_type": "markdown",
   "metadata": {},
   "source": [
    "We can wrap all this into a function and test it with various questions."
   ]
  },
  {
   "cell_type": "code",
   "execution_count": null,
   "metadata": {},
   "outputs": [],
   "source": [
    "def classify(quest, model, vectorizer, encoder):\n",
    "    vec = vectorizer.transform([q1]).toarray()\n",
    "    y_pred = model.predict(vec)\n",
    "    cat_pred = tf.argmax(y_pred, axis=1).numpy()[0]\n",
    "    return encoder.categories_[0][cat_pred]    "
   ]
  },
  {
   "cell_type": "code",
   "execution_count": null,
   "metadata": {},
   "outputs": [],
   "source": [
    "q1 = \"Who Framed Roger Rabbit?\"\n",
    "print(classify(q1, model, vectorizer, encoder))"
   ]
  },
  {
   "cell_type": "code",
   "execution_count": null,
   "metadata": {},
   "outputs": [],
   "source": [
    "q1 = \"How far is the sun?\"\n",
    "print(classify(q1, model, vectorizer, encoder))"
   ]
  },
  {
   "cell_type": "code",
   "execution_count": null,
   "metadata": {},
   "outputs": [],
   "source": [
    "q1 = \"MNIST, is this an abbreviation or what?\"\n",
    "print(classify(q1, model, vectorizer, encoder))"
   ]
  },
  {
   "cell_type": "code",
   "execution_count": null,
   "metadata": {},
   "outputs": [],
   "source": [
    "q1 = \"I wonder where I put my glasses\"\n",
    "print(classify(q1, model, vectorizer, encoder))"
   ]
  },
  {
   "cell_type": "markdown",
   "metadata": {},
   "source": [
    "Our model is very simple. What can be done to improve it?\n",
    "\n",
    "First of all more accurate cleaning is required. Probably dots must be preserved in tokens representing domain names like \".com\". \n",
    "\n",
    "Since abbreviations are essential in this corpus, it is better to avoid their conversion to lowercase.\n",
    "\n",
    "Replacing stemming with lemmatisation will probably also improve the performance.\n",
    "\n",
    "Vector model TF-IDF is not the best one known today. Embedding models `Doc2Vec` or `Sent2Vec` are expected to work better.\n",
    "\n",
    "Finally one can also play with the network structure: add more layers, change layer sizes, increase or decrease regularization coefficient and dropout ratio."
   ]
  },
  {
   "cell_type": "markdown",
   "metadata": {},
   "source": [
    "### Convolutional network for document classification\n",
    "\n",
    "On previous lecture we considered convolutional network for images classification. \n",
    "\n",
    "Similarly convolution can be leveraged to texts. \n",
    "\n",
    "Each sentence (or a document) of a corpus is represented as word vectors that are stacked one after another. \n",
    "\n",
    "Convolution kernel has width corresponding to the length of a word vector and height equal to an odd number (typically) to grab together with the current vector two or more its neighbors.\n",
    "\n",
    "After convolution new vector size equals to the number of filters (kernels) applied. Sentence length is unchanged if zero padding is used.\n",
    "\n",
    "This is called 1 dimensional convolution.\n",
    "\n",
    "Also 1 dimensional pooling is applied after the convolution. \n",
    "\n",
    "Pooling is applied along sentences, separately along each vector element. \n",
    "\n",
    "The pooling reduces the length of sentences. The reduction coefficient depends on the pooling widow size. Typically this is 2.\n",
    "\n",
    "As usual there are average or max pooling.\n",
    "\n",
    "Global pooling is has a window size equal to the number of sentences. Its result is a single vector."
   ]
  },
  {
   "attachments": {
    "convol_1d.svg": {
     "image/svg+xml": [
      "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"
     ]
    }
   },
   "cell_type": "markdown",
   "metadata": {},
   "source": [
    "![convol_1d.svg](attachment:convol_1d.svg)"
   ]
  },
  {
   "cell_type": "markdown",
   "metadata": {},
   "source": [
    "In this section we consider text classification problem. \n",
    "\n",
    "Notice that the same problem was consider in the previous section. \n",
    "\n",
    "The difference is that now we will consider how convolutions can be used for this.\n",
    "\n",
    "We will build sarcasm detector. \n",
    "\n",
    "The dataset is taken from Kaggle at https://www.kaggle.com/rmisra/news-headlines-dataset-for-sarcasm-detection\n",
    "and copied to a course repository for convenience.\n",
    "\n",
    "This dataset is collected from two news website. First is TheOnion that aims at producing sarcastic versions of current events and HuffPost that publishes real (and non-sarcastic) news.\n",
    "\n",
    "Only headlines of news are gathered.\n",
    "\n",
    "Let us first download zipped file and open it as Python list.\n",
    "\n",
    "The file has format JSON. This is an open standard file format, and data interchange format, that uses human-readable text to store and transmit data objects.\n",
    "\n",
    "To read and parse it we use Python library `json`. The outcome is Python dictionaries representing each data record."
   ]
  },
  {
   "cell_type": "code",
   "execution_count": null,
   "metadata": {},
   "outputs": [],
   "source": [
    "import json\n",
    "import requests\n",
    "from io import BytesIO, TextIOWrapper\n",
    "from zipfile import ZipFile\n",
    "\n",
    "def load_ziptxt_dataset(file_name):\n",
    "    \"\"\"Downloads zipped dataset from repo and return it as a text.\"\"\"\n",
    "    base_url = \"https://raw.githubusercontent.com/kupav/data-sc-intro/main/data/\"\n",
    "    web_data = requests.get(base_url + file_name)\n",
    "    assert web_data.status_code == 200\n",
    "\n",
    "    # unzip the content\n",
    "    zf = ZipFile(BytesIO(web_data.content))\n",
    "    \n",
    "    # zipped file name\n",
    "    zipped_name = zf.namelist()[0]\n",
    "    print(f\"Download {file_name}, unzip {zipped_name}\")\n",
    "    \n",
    "    # Open unpacked file\n",
    "    with zf.open(zipped_name, 'r') as file:\n",
    "        # TextIOWrapper(file) converts byte strings to plain strings\n",
    "        data = []\n",
    "        for record in TextIOWrapper(file):\n",
    "            data.append(json.loads(record))\n",
    "    return data"
   ]
  },
  {
   "cell_type": "code",
   "execution_count": null,
   "metadata": {},
   "outputs": [],
   "source": [
    "raw_data = load_ziptxt_dataset(\"Sarcasm_Headlines_Dataset_v2.json.zip\")\n",
    "print(f\"Number of records {len(raw_data)}\")\n",
    "\n",
    "print()\n",
    "for record in raw_data[:5]:\n",
    "    print(record)"
   ]
  },
  {
   "cell_type": "markdown",
   "metadata": {},
   "source": [
    "We see that there three fields: \"is_sarcastic\", \"headline\" and \"article_link\". \n",
    "\n",
    "We will use only first two omitting article links."
   ]
  },
  {
   "cell_type": "code",
   "execution_count": null,
   "metadata": {},
   "outputs": [],
   "source": [
    "alllabels = []\n",
    "documents = []\n",
    "\n",
    "for record in raw_data:\n",
    "    alllabels.append(int(record['is_sarcastic']))\n",
    "    documents.append(record['headline'])"
   ]
  },
  {
   "cell_type": "markdown",
   "metadata": {},
   "source": [
    "Check the balance: if we have same number of sarcastic and non sarcastic news."
   ]
  },
  {
   "cell_type": "code",
   "execution_count": null,
   "metadata": {},
   "outputs": [],
   "source": [
    "import matplotlib.pyplot as plt\n",
    "\n",
    "fig, ax = plt.subplots()\n",
    "ax.hist(alllabels, bins=2);"
   ]
  },
  {
   "cell_type": "markdown",
   "metadata": {},
   "source": [
    "Now we need to preprocess documents.\n",
    "\n",
    "Since we will use Word2Vec vectorization stemming is not appropriate since Word2Vec models are built for full words, not for their stems.\n",
    "\n",
    "So we perform lemmatization with the help of `spacy`.\n",
    "\n",
    "After lemmatization a cleaning is perform using the pattern `[a-z]+`.\n",
    "\n",
    "This very aggressive cleaning that remove every token not including only letters.\n",
    "\n",
    "Notice that the reduced verbs with apostrophe like \"'ve\" are also removed. \n",
    "\n",
    "This is because at the next step remove stopwords according to a nltk list where all such modal verbs are present."
   ]
  },
  {
   "cell_type": "code",
   "execution_count": null,
   "metadata": {},
   "outputs": [],
   "source": [
    "import re\n",
    "import spacy\n",
    "import nltk\n",
    "nltk.download('stopwords')\n",
    "\n",
    "nlp = spacy.load('en_core_web_sm')\n",
    "stop = set(nltk.corpus.stopwords.words('english'))\n",
    "rge = re.compile(\"[a-z]+\")\n",
    "\n",
    "def preproc(sentence, nlp, stop, rge):\n",
    "    nlp_tokens = nlp(sentence)\n",
    "    tokens = [token.lemma_ for token in nlp_tokens]\n",
    "    tokens = [tok for tok in tokens if rge.fullmatch(tok) is not None]\n",
    "    tokens = [tok for tok in tokens if tok not in stop]\n",
    "    return tokens"
   ]
  },
  {
   "cell_type": "markdown",
   "metadata": {},
   "source": [
    "This code applies the preprocessor to the documents. Sometimes it removes all sentence, sometimes only one or to tokens left. \n",
    "\n",
    "Such short documents are ignored, since sarcasm is sufficiently complicated construct that requires many words to be expressed."
   ]
  },
  {
   "cell_type": "code",
   "execution_count": null,
   "metadata": {},
   "outputs": [],
   "source": [
    "# It takes some time\n",
    "min_length = 3\n",
    "tokens, labels = [], []\n",
    "for lab, doc in zip(alllabels, documents):\n",
    "    toks = preproc(doc, nlp, stop, rge)\n",
    "    if len(toks) >= min_length:\n",
    "        tokens.append(toks)\n",
    "        labels.append(lab)\n",
    "    \n",
    "print(tokens[:10])"
   ]
  },
  {
   "cell_type": "markdown",
   "metadata": {},
   "source": [
    "Vectorization will be done using prebuilt Word2Vec model provided by `gensim`. \n",
    "\n",
    "Below there are two version. \n",
    "\n",
    "Calling the better and the larger model \"word2vec-google-news-300\" is commented out to avoid large traffic."
   ]
  },
  {
   "cell_type": "code",
   "execution_count": null,
   "metadata": {
    "scrolled": true
   },
   "outputs": [],
   "source": [
    "import gensim.downloader as api\n",
    "\n",
    "vectorizer = api.load(\"glove-wiki-gigaword-50\")  # 66 MB\n",
    "# vectorizer = api.load(\"word2vec-google-news-300\")  # 1.7 GB !"
   ]
  },
  {
   "cell_type": "markdown",
   "metadata": {},
   "source": [
    "This function below computes vector representation of sentences. \n",
    "\n",
    "Since sentences have different sizes we take some value `max_length` as the largest sentence length taken into account.\n",
    "\n",
    "Longer sentences are truncated and shorter ones are padded with zero vectors.\n",
    "\n",
    "Some words may be not found in the vocabulary of the Word2Vec model. In such cases we put a stub instead: a random vector that is required to indicate the here there some word."
   ]
  },
  {
   "cell_type": "code",
   "execution_count": null,
   "metadata": {},
   "outputs": [],
   "source": [
    "import numpy as np\n",
    "rng = np.random.default_rng(seed=0)\n",
    "stub = rng.uniform(-1,1, size=vectorizer.vector_size)\n",
    "\n",
    "def vectorize_data(data, vectorizer, max_length, stub):\n",
    "    vector_size = vectorizer.vector_size\n",
    "    vectors = []\n",
    "    padding_vector = [0.0] * vector_size\n",
    "    \n",
    "    for i, data_point in enumerate(data):\n",
    "        data_point_vectors = []\n",
    "        count = 0\n",
    "        \n",
    "        for token in data_point:\n",
    "            if count >= max_length:\n",
    "                break\n",
    "            if vectorizer.get_index(token, default=-1) >= 0:\n",
    "                data_point_vectors.append(vectorizer[token])\n",
    "            else:\n",
    "                data_point_vectors.append(stub)\n",
    "            count = count + 1\n",
    "        \n",
    "        if len(data_point_vectors) < max_length:\n",
    "            to_fill = max_length - len(data_point_vectors)\n",
    "            for _ in range(to_fill):\n",
    "                data_point_vectors.append(padding_vector)\n",
    "        \n",
    "        vectors.append(data_point_vectors)\n",
    "        \n",
    "    return np.array(vectors)"
   ]
  },
  {
   "cell_type": "markdown",
   "metadata": {},
   "source": [
    "Maximum length of sentence that we take into account is computed as 90 percentile of the distribution of sentence lengths. \n",
    "\n",
    "It means that 90\\% of sentences has the length no longer then this.\n",
    "\n",
    "The reason that we do not take the longest sentence is that there are few very large sentences and we do not want to enlarge the model due to them."
   ]
  },
  {
   "cell_type": "code",
   "execution_count": null,
   "metadata": {},
   "outputs": [],
   "source": [
    "sizes = [len(sent) for sent in tokens]\n",
    "print(max(sizes))\n",
    "max_length = sorted(sizes)[9*len(tokens)//10]\n",
    "print(max_length)"
   ]
  },
  {
   "cell_type": "markdown",
   "metadata": {},
   "source": [
    "This is the vectorization:"
   ]
  },
  {
   "cell_type": "code",
   "execution_count": null,
   "metadata": {},
   "outputs": [],
   "source": [
    "tokvecs = vectorize_data(tokens, vectorizer, max_length, stub)\n",
    "print(tokvecs.shape)"
   ]
  },
  {
   "cell_type": "markdown",
   "metadata": {},
   "source": [
    "Now we split the dataset into training and testing parts."
   ]
  },
  {
   "cell_type": "code",
   "execution_count": null,
   "metadata": {},
   "outputs": [],
   "source": [
    "from sklearn.model_selection import train_test_split\n",
    "\n",
    "p_test = 0.3\n",
    "n_test = round(p_test * len(labels))\n",
    "\n",
    "X_train, X_test, y_train, y_test = train_test_split(tokvecs, np.array(labels), random_state=0, \n",
    "                                                    test_size=n_test, shuffle=True)\n",
    "\n",
    "print(f\"train shape {X_train.shape}\")\n",
    "print(f\"test shape {X_test.shape}\")"
   ]
  },
  {
   "cell_type": "markdown",
   "metadata": {},
   "source": [
    "And finally the model.\n",
    "\n",
    "We use here one convolution layer accompanied by global pooling and two dense layers. \n",
    "\n",
    "Overfitting is reduced via dropouts and neuron weights reducing.\n",
    "\n",
    "Since there two classes to predict the loss function is binary cross entropy."
   ]
  },
  {
   "cell_type": "code",
   "execution_count": null,
   "metadata": {},
   "outputs": [],
   "source": [
    "input_shape = X_train.shape[1:]\n",
    "l2_penalty = 0.01\n",
    "dropout_rate = 0.5\n",
    "\n",
    "model = Sequential([\n",
    "    Conv1D(input_shape=input_shape,\n",
    "           filters=8, kernel_size=3, padding='same', activation='relu',\n",
    "           kernel_regularizer=tf.keras.regularizers.l2(l2_penalty)),\n",
    "    GlobalMaxPooling1D(),\n",
    "    Dense(10, activation='relu',\n",
    "          kernel_regularizer=tf.keras.regularizers.l2(l2_penalty)),\n",
    "    Dropout(dropout_rate),\n",
    "    Dense(5, activation='relu',\n",
    "          kernel_regularizer=tf.keras.regularizers.l2(l2_penalty)),\n",
    "    Dropout(dropout_rate),\n",
    "    Dense(1)\n",
    "])\n",
    "\n",
    "model.compile(optimizer='adam',  \n",
    "             loss=BinaryCrossentropy(from_logits=True),\n",
    "             metrics=['accuracy'])\n",
    "\n",
    "model.summary()"
   ]
  },
  {
   "cell_type": "code",
   "execution_count": null,
   "metadata": {
    "scrolled": true
   },
   "outputs": [],
   "source": [
    "hist = model.fit(X_train, y_train, epochs=50, validation_split=0.2, verbose=2)"
   ]
  },
  {
   "cell_type": "code",
   "execution_count": null,
   "metadata": {},
   "outputs": [],
   "source": [
    "plot_hist([hist], [\"sarcasm\"])"
   ]
  },
  {
   "cell_type": "code",
   "execution_count": null,
   "metadata": {},
   "outputs": [],
   "source": [
    "acc, loss = model.evaluate(X_test, y_test)\n",
    "print(f\"acc={acc}, loss={loss}\")"
   ]
  },
  {
   "cell_type": "markdown",
   "metadata": {},
   "source": [
    "Let us now apply the model to a arbitrary expressions.\n",
    "\n",
    "First consider the steps with printing intermediate results."
   ]
  },
  {
   "cell_type": "code",
   "execution_count": null,
   "metadata": {},
   "outputs": [],
   "source": [
    "ss = \"You look so good, really\"\n",
    "\n",
    "tok = preproc(ss, nlp, stop, rge)\n",
    "print(tok)\n",
    "vec = vectorize_data([tok], vectorizer, max_length, stub)\n",
    "print(vec)\n",
    "y_pred = model.predict(vec)\n",
    "print(y_pred)\n",
    "print(\"sarcastic\" if y_pred[0][0] < 0 else \"non sarcastic\")"
   ]
  },
  {
   "cell_type": "markdown",
   "metadata": {},
   "source": [
    "The steps can be wrapped to a functions"
   ]
  },
  {
   "cell_type": "code",
   "execution_count": null,
   "metadata": {},
   "outputs": [],
   "source": [
    "def classify(ss):\n",
    "    tok = preproc(ss, nlp, stop, rge)\n",
    "    if len(toks) < min_length:\n",
    "        raise ValueError\n",
    "    vec = vectorize_data([tok], vectorizer, max_length, stub)\n",
    "    y_pred = model.predict(vec)\n",
    "    return \"sarcastic\" if y_pred[0][0] < 0 else \"non sarcastic\""
   ]
  },
  {
   "cell_type": "markdown",
   "metadata": {},
   "source": [
    "Now the examples"
   ]
  },
  {
   "cell_type": "code",
   "execution_count": null,
   "metadata": {},
   "outputs": [],
   "source": [
    "ss = \"Marry had a little lamb, little lamb, little lamb\"\n",
    "print(classify(ss))"
   ]
  },
  {
   "cell_type": "code",
   "execution_count": null,
   "metadata": {},
   "outputs": [],
   "source": [
    "ss = \"That's just what I needed today!\"\n",
    "print(classify(ss))"
   ]
  },
  {
   "cell_type": "code",
   "execution_count": null,
   "metadata": {},
   "outputs": [],
   "source": [
    "ss = \"Well, what a surprise.\"\n",
    "print(classify(ss))"
   ]
  },
  {
   "cell_type": "code",
   "execution_count": null,
   "metadata": {},
   "outputs": [],
   "source": [
    "ss = \"Great! I hope I'm a waitress at the Cheesecake Factory for my whole life!\"\n",
    "print(classify(ss))"
   ]
  },
  {
   "cell_type": "code",
   "execution_count": null,
   "metadata": {},
   "outputs": [],
   "source": [
    "ss = \"NaNs are treated as missing values: disregarded in fit, and maintained in transform.\"\n",
    "print(classify(ss))"
   ]
  },
  {
   "cell_type": "code",
   "execution_count": null,
   "metadata": {},
   "outputs": [],
   "source": [
    "ss = \"Fender releases new hybrid gas-electric guitar\"\n",
    "print(classify(ss))"
   ]
  },
  {
   "cell_type": "code",
   "execution_count": null,
   "metadata": {},
   "outputs": [],
   "source": [
    "ss = \"You can now message the president on facebook\"\n",
    "print(classify(ss))"
   ]
  },
  {
   "cell_type": "markdown",
   "metadata": {},
   "source": [
    "We see that the predictions often do not correspond to our intuition.\n",
    "\n",
    "The model obviously have to be improved.\n",
    "\n",
    "Probably detection of sarcasm requires all words in sentences so we may try to make cleaning and stopwords removal not so aggressive.\n",
    "\n",
    "It is reasonable to try to refuse the removing of the stop words.\n",
    "\n",
    "The lemmatization can be also the problem.\n",
    "\n",
    "Let us remember: stemming are lemmatizaton are required to reduce the vocabulary size and thus the vector size in Bag of Words and TF-IDF models. \n",
    "\n",
    "When embedding models are used this problem is absent. \n",
    "\n",
    "And the embedding model are built on the raw texts without lemmatization. \n",
    "\n",
    "Probably using sentences in their original form can help to make the detector more adequate.\n",
    "\n",
    "Of course the model architecture can also be adjust: more convolution layers can be added and sizes of their kernels as well as sizes of dense layers can be tuned up."
   ]
  },
  {
   "cell_type": "markdown",
   "metadata": {},
   "source": [
    "### Exercises\n",
    "\n",
    "1\\. Following the recommendations provided at the end of the section \"Dense network for document classification\" try to improve the model from this section.\n",
    "\n",
    "2\\. Following the recommendations provided at the end of the section \"Convolutional network for document classification\" try to improve the model from this section.\n"
   ]
  },
  {
   "cell_type": "code",
   "execution_count": null,
   "metadata": {},
   "outputs": [],
   "source": []
  }
 ],
 "metadata": {
  "kernelspec": {
   "display_name": "Python 3",
   "language": "python",
   "name": "python3"
  },
  "language_info": {
   "codemirror_mode": {
    "name": "ipython",
    "version": 3
   },
   "file_extension": ".py",
   "mimetype": "text/x-python",
   "name": "python",
   "nbconvert_exporter": "python",
   "pygments_lexer": "ipython3",
   "version": "3.9.4"
  },
  "nbTranslate": {
   "displayLangs": [
    "*"
   ],
   "hotkey": "alt-t",
   "langInMainMenu": true,
   "sourceLang": "ru",
   "targetLang": "en",
   "useGoogleTranslate": true
  },
  "toc": {
   "base_numbering": 1,
   "nav_menu": {
    "height": "113px",
    "width": "228px"
   },
   "number_sections": true,
   "sideBar": true,
   "skip_h1_title": true,
   "title_cell": "Table of Contents",
   "title_sidebar": "Contents",
   "toc_cell": false,
   "toc_position": {
    "height": "calc(100% - 180px)",
    "left": "10px",
    "top": "150px",
    "width": "187.8px"
   },
   "toc_section_display": true,
   "toc_window_display": true
  }
 },
 "nbformat": 4,
 "nbformat_minor": 4
}
