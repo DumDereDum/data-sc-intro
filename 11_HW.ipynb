{
 "cells": [
  {
   "cell_type": "markdown",
   "id": "6060d1bb",
   "metadata": {},
   "source": [
    "## Lesson 1"
   ]
  },
  {
   "cell_type": "markdown",
   "id": "fd4c00fc",
   "metadata": {},
   "source": [
    "1\\. Answer in writing what is a model and what is a machine learning model"
   ]
  },
  {
   "cell_type": "markdown",
   "id": "eac33889",
   "metadata": {},
   "source": [
    "Model - it is an abstract structure which describes the relationship between different variables in it.\n",
    "\n",
    "ML - finding aforementioned relationships between variables in model"
   ]
  },
  {
   "cell_type": "code",
   "execution_count": null,
   "id": "c797048c",
   "metadata": {},
   "outputs": [],
   "source": []
  },
  {
   "cell_type": "markdown",
   "id": "f9daca33",
   "metadata": {},
   "source": [
    "2\\. Write brief descriptions of three types of model learning"
   ]
  },
  {
   "cell_type": "markdown",
   "id": "933c4577",
   "metadata": {},
   "source": [
    "### Supervises \n",
    "Give examples and wait that model will be able to make predictions on new data\n",
    "\n",
    "### Unsupervised\n",
    "Give a lot of data and wait that model will be able to make a human understandable grouping (or other actions) as result\n",
    "\n",
    "### Reinforcement\n",
    "Give a lot of data and sometimes provide to the model hits (ex. is model doing something in right way now?) and as a result wait a correct work\n"
   ]
  },
  {
   "cell_type": "code",
   "execution_count": null,
   "id": "8e55421b",
   "metadata": {},
   "outputs": [],
   "source": []
  },
  {
   "cell_type": "markdown",
   "id": "4adf784c",
   "metadata": {},
   "source": [
    "## Lesson 2"
   ]
  },
  {
   "cell_type": "markdown",
   "id": "dce8b5fc",
   "metadata": {},
   "source": [
    "3\\. Answer in writing what are overfitting and underfitting. Why dataset must be split into parts?"
   ]
  },
  {
   "cell_type": "markdown",
   "id": "49d7c7bd",
   "metadata": {},
   "source": [
    "Overfiting - model works good only with train data and bad with test data (model falls to local minimum)\n",
    "\n",
    "Underfitting - model works not good with train and test data (ex. low number of learning epochs)\n",
    "\n",
    "Dataset should be splitted because we decrease change to get overfitting or underfitting"
   ]
  },
  {
   "cell_type": "code",
   "execution_count": null,
   "id": "5180a41d",
   "metadata": {},
   "outputs": [],
   "source": []
  },
  {
   "cell_type": "markdown",
   "id": "aa94a7cd",
   "metadata": {},
   "source": [
    "4\\. Describes in writing the ways of fighting with overfitting and underfitting."
   ]
  },
  {
   "cell_type": "markdown",
   "id": "6d06df5b",
   "metadata": {},
   "source": [
    "There are a lot of ways and some of them: \n",
    "* big number of data\n",
    "* reasonable number of learning epochs\n",
    "* use regularization\n",
    "* dropout"
   ]
  },
  {
   "cell_type": "code",
   "execution_count": null,
   "id": "16630d2d",
   "metadata": {},
   "outputs": [],
   "source": []
  }
 ],
 "metadata": {
  "kernelspec": {
   "display_name": "Python 3 (ipykernel)",
   "language": "python",
   "name": "python3"
  },
  "language_info": {
   "codemirror_mode": {
    "name": "ipython",
    "version": 3
   },
   "file_extension": ".py",
   "mimetype": "text/x-python",
   "name": "python",
   "nbconvert_exporter": "python",
   "pygments_lexer": "ipython3",
   "version": "3.8.10"
  }
 },
 "nbformat": 4,
 "nbformat_minor": 5
}
