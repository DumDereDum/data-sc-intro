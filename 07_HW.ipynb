{
 "cells": [
  {
   "cell_type": "code",
   "execution_count": null,
   "id": "783325c8",
   "metadata": {},
   "outputs": [],
   "source": []
  },
  {
   "cell_type": "markdown",
   "id": "459404d9",
   "metadata": {},
   "source": [
    "## Lesson 1"
   ]
  },
  {
   "cell_type": "markdown",
   "id": "551e16eb",
   "metadata": {},
   "source": [
    "1\\. For the functions $y(x)$ listed below compute the derivatives at $x$\n",
    "\n",
    "- $y(x)=2x^2-x$\n",
    "- $y(x)=\\sin x^2$\n",
    "- $y(x)=e^{-3x}$\n",
    "- $y(x)=\\log(1/x)$"
   ]
  },
  {
   "cell_type": "code",
   "execution_count": 10,
   "id": "1efc2467",
   "metadata": {},
   "outputs": [
    {
     "name": "stdout",
     "output_type": "stream",
     "text": [
      "fun1 der at 0.1\t= -0.799000000000008\n",
      "fun1 der at 1\t= 1.0009999999998076\n",
      "fun1 der at 2\t= 3.0009999999998094\n",
      "fun1 der at 3\t= 5.001000000000033\n",
      "fun1 der at 4\t= 7.0010000000024775\n",
      "\n",
      "fun2 der at 0.1\t= 0.2009897467287521\n",
      "fun2 der at 1\t= 1.079459567787655\n",
      "fun2 der at 2\t= -2.6091637101814946\n",
      "fun2 der at 3\t= -5.475080467918169\n",
      "fun2 der at 4\t= -7.652936591064196\n",
      "\n",
      "fun3 der at 0.1\t= -2.2191243112353876\n",
      "fun3 der at 1\t= -0.1491373871697968\n",
      "fun3 der at 2\t= -0.007425113291228535\n",
      "fun3 der at 3\t= -0.00036967462306952107\n",
      "fun3 der at 4\t= -1.8405015732626523e-05\n",
      "\n",
      "fun4 der at 0.1\t= -9.950330853168321\n",
      "fun4 der at 1\t= -0.999500333083388\n",
      "fun4 der at 2\t= -0.49987504165105445\n",
      "fun4 der at 3\t= -0.3332777901201567\n",
      "fun4 der at 4\t= -0.24996875520755246\n",
      "\n",
      "fun5 der at 0.1\t= -3.681499549657019e-10\n",
      "fun5 der at 1\t= -9.037787185306456e-07\n",
      "fun5 der at 2\t= -0.0007425604979793832\n",
      "fun5 der at 3\t= -0.07339088718938402\n",
      "fun5 der at 4\t= -0.7361265162246777\n",
      "\n"
     ]
    }
   ],
   "source": [
    "import numpy as np\n",
    "dx  = 0.001\n",
    "x_1 = 0\n",
    "x_2 = 1\n",
    "\n",
    "def fun1(x):\n",
    "    return x**2 - x\n",
    "def fun2(x):\n",
    "    return np.sin(x**2)\n",
    "def fun3(x):\n",
    "    return np.exp(-3*x)\n",
    "def fun4(x):\n",
    "    return np.log(1/x)\n",
    "def fun5(x):\n",
    "    return 1 - np.exp(-(x-5)**2)\n",
    "\n",
    "def ndfun(x, dx, fun):\n",
    "    \"\"\"Finite difference approximation of the derivative\"\"\"\n",
    "    dy = fun(x+dx) - fun(x)\n",
    "    return dy / dx\n",
    "\n",
    "funs = [fun1, fun2, fun3, fun4, fun5]\n",
    "fns  = ['fun1', 'fun2', 'fun3', 'fun4', 'fun5']\n",
    "xs   = [0.1, 1, 2, 3, 4]\n",
    "\n",
    "for (f, fn) in zip(funs, fns):\n",
    "    for x in xs:\n",
    "        print(f'{fn} der at {x}\\t= {ndfun(x, dx, f)}')\n",
    "    print()\n"
   ]
  },
  {
   "cell_type": "markdown",
   "id": "5b3c5116",
   "metadata": {},
   "source": [
    "2\\. Write a program that finds the minimum of the function \n",
    "\n",
    "$$\n",
    "y(x) = 1-e^{-(x-5)^2}\n",
    "$$\n",
    "\n",
    "using a gradient descent. "
   ]
  },
  {
   "cell_type": "code",
   "execution_count": 12,
   "id": "6be821de",
   "metadata": {},
   "outputs": [
    {
     "name": "stdout",
     "output_type": "stream",
     "text": [
      "x_min=-2.0\n"
     ]
    }
   ],
   "source": [
    "gamma = 0.05\n",
    "eps = 1e-10\n",
    "x0 = -2\n",
    "dx = 0.001  # finte step for derivative computation\n",
    "iters = [x0]\n",
    "while True:\n",
    "    x1 = x0 - gamma * ndfun(x0, dx, fun5)  # exact dfun is substituted with appoximate ndfun\n",
    "    iters.append(x1)  \n",
    "    if np.abs(x1-x0)<eps:\n",
    "        break\n",
    "    x0 = x1\n",
    "\n",
    "xmin_nd = x1\n",
    "print(f\"x_min={xmin_nd}\")"
   ]
  },
  {
   "cell_type": "code",
   "execution_count": null,
   "id": "6c66dcdf",
   "metadata": {},
   "outputs": [],
   "source": []
  },
  {
   "cell_type": "markdown",
   "id": "b70156bc",
   "metadata": {},
   "source": [
    "## Lesson 2"
   ]
  },
  {
   "cell_type": "markdown",
   "id": "f2fc8188",
   "metadata": {},
   "source": [
    "3\\. Compute gradients of the following functions:\n",
    "\n",
    "- $f(x,y) = x^3 - y^2$\n",
    "- $f(x,y) = \\sin (x+y)$\n",
    "- $f(x,y) = x e^y$"
   ]
  },
  {
   "cell_type": "code",
   "execution_count": 26,
   "id": "69f1449e",
   "metadata": {},
   "outputs": [
    {
     "name": "stdout",
     "output_type": "stream",
     "text": [
      "[3.00000025 1.00000008]\n",
      "[-0.41614601 -0.83229312]\n",
      "[2.71828338 5.43656231]\n"
     ]
    }
   ],
   "source": [
    "def fun11(x):\n",
    "    return x[0]**3 - x[1]**2\n",
    "def fun22(x):\n",
    "    return np.sin(x[0]+x[1])\n",
    "def fun33(x):\n",
    "    return x[0] * np.exp(x[1])\n",
    "\n",
    "def ngrad_f(x, dx, fun):\n",
    "    res = []\n",
    "    f0  = fun(x)\n",
    "    for i in range(len(x)):\n",
    "        _x    = x\n",
    "        _x[i] = _x[i] + dx\n",
    "        \n",
    "        res.append((fun(_x) - f0) / dx)\n",
    "    return np.array(res)\n",
    "\n",
    "x = [1, 1]\n",
    "\n",
    "print(ngrad_f(x, 1e-10, fun11))\n",
    "print(ngrad_f(x, 1e-10, fun22))\n",
    "print(ngrad_f(x, 1e-10, fun33))"
   ]
  },
  {
   "cell_type": "markdown",
   "id": "fd9b3254",
   "metadata": {},
   "source": [
    "4\\. Write a program that finds the minimum of the function\n",
    "$$\n",
    "f(x_1, x_2, x_3) = - 0.1 \\log x_1 - 0.3 \\log x_2 - 0.6 \\log x_3 \n",
    "$$\n",
    "\n",
    "using a gradient descent. "
   ]
  },
  {
   "cell_type": "code",
   "execution_count": 39,
   "id": "8834a939",
   "metadata": {},
   "outputs": [
    {
     "name": "stdout",
     "output_type": "stream",
     "text": [
      "step 0\t: [1, 1, 1]\n",
      "step 1\t: [1.005001   1.02000099 1.05000097]\n",
      "step 2\t: [1.00997711 1.03968297 1.09825434]\n",
      "step 3\t: [1.01492872 1.05906204 1.14494948]\n",
      "step 4\t: [1.01985617 1.07815296 1.19024242]\n",
      "step 5\t: [1.02475982 1.09696929 1.23426368]\n",
      "step 6\t: [1.02964001 1.11552351 1.27712388]\n",
      "step 7\t: [1.03449707 1.13382717 1.31891782]\n",
      "step 8\t: [1.03933134 1.15189096 1.35972752]\n",
      "step 9\t: [1.04414312 1.1697248  1.39962459]\n",
      "step 10\t: [1.04893273 1.18733794 1.43867204]\n",
      "step 11\t: [1.05370048 1.20473898 1.47692564]\n",
      "step 12\t: [1.05844666 1.22193599 1.51443511]\n",
      "step 13\t: [1.06317156 1.23893648 1.55124496]\n",
      "step 14\t: [1.06787547 1.25574755 1.58739532]\n",
      "step 15\t: [1.07255866 1.27237581 1.62292247]\n",
      "step 16\t: [1.07722141 1.28882752 1.65785934]\n",
      "step 17\t: [1.08186398 1.30510857 1.69223601]\n",
      "step 18\t: [1.08648663 1.32122451 1.72607997]\n",
      "step 19\t: [1.09108962 1.3371806  1.75941648]\n",
      "step 20\t: [1.09567319 1.3529818  1.79226878]\n",
      "step 21\t: [1.10023759 1.36863282 1.82465836]\n",
      "step 22\t: [1.10478306 1.38413813 1.8566051 ]\n",
      "step 23\t: [1.10930984 1.39950197 1.88812746]\n",
      "step 24\t: [1.11381814 1.41472837 1.91924261]\n",
      "step 25\t: [1.1183082  1.42982117 1.94996657]\n",
      "step 26\t: [1.12278024 1.44478403 1.98031431]\n",
      "step 27\t: [1.12723447 1.45962043 2.01029981]\n",
      "step 28\t: [1.1316711  1.4743337  2.03993623]\n",
      "step 29\t: [1.13609034 1.48892703 2.06923589]\n",
      "step 30\t: [1.1404924  1.50340345 2.09821042]\n",
      "step 31\t: [1.14487747 1.51776588 2.12687074]\n",
      "step 32\t: [1.14924575 1.5320171  2.15522719]\n",
      "step 33\t: [1.15359743 1.54615979 2.18328952]\n",
      "step 34\t: [1.15793269 1.5601965  2.21106697]\n",
      "step 35\t: [1.16225173 1.57412971 2.23856828]\n",
      "step 36\t: [1.16655472 1.58796178 2.26580177]\n",
      "step 37\t: [1.17084185 1.60169497 2.2927753 ]\n",
      "step 38\t: [1.17511328 1.61533148 2.31949639]\n",
      "step 39\t: [1.17936918 1.6288734  2.34597215]\n",
      "step 40\t: [1.18360974 1.64232277 2.37220939]\n",
      "step 41\t: [1.1878351  1.65568153 2.39821459]\n",
      "step 42\t: [1.19204544 1.66895158 2.42399394]\n",
      "step 43\t: [1.19624091 1.68213473 2.44955335]\n",
      "step 44\t: [1.20042166 1.69523272 2.47489848]\n",
      "step 45\t: [1.20458787 1.70824726 2.50003473]\n",
      "step 46\t: [1.20873966 1.72117999 2.52496728]\n",
      "step 47\t: [1.2128772  1.73403247 2.54970111]\n",
      "step 48\t: [1.21700063 1.74680626 2.57424097]\n",
      "step 49\t: [1.22111009 1.75950281 2.59859145]\n",
      "step 50\t: [1.22520572 1.77212358 2.62275693]\n",
      "step 51\t: [1.22928766 1.78466994 2.64674164]\n",
      "step 52\t: [1.23335606 1.79714325 2.67054963]\n",
      "step 53\t: [1.23741104 1.80954481 2.69418483]\n",
      "step 54\t: [1.24145273 1.82187588 2.71765099]\n",
      "step 55\t: [1.24548127 1.83413768 2.74095174]\n",
      "step 56\t: [1.24949678 1.84633142 2.76409058]\n",
      "step 57\t: [1.25349939 1.85845825 2.78707088]\n",
      "step 58\t: [1.25748922 1.87051928 2.8098959 ]\n",
      "step 59\t: [1.2614664  1.88251562 2.83256879]\n",
      "step 60\t: [1.26543103 1.89444832 2.85509258]\n",
      "step 61\t: [1.26938326 1.90631841 2.87747021]\n",
      "step 62\t: [1.27332318 1.9181269  2.89970452]\n",
      "step 63\t: [1.27725091 1.92987476 2.92179826]\n",
      "step 64\t: [1.28116656 1.94156294 2.94375409]\n",
      "step 65\t: [1.28507025 1.95319236 2.96557458]\n",
      "step 66\t: [1.28896209 1.96476393 2.98726223]\n",
      "step 67\t: [1.29284218 1.97627852 3.00881946]\n",
      "step 68\t: [1.29671063 1.98773699 3.03024861]\n",
      "step 69\t: [1.30056753 1.99914017 3.05155197]\n",
      "step 70\t: [1.30441301 2.01048886 3.07273173]\n",
      "step 71\t: [1.30824715 2.02178387 3.09379003]\n",
      "step 72\t: [1.31207006 2.03302597 3.11472897]\n",
      "step 73\t: [1.31588183 2.0442159  3.13555056]\n",
      "step 74\t: [1.31968256 2.05535441 3.15625676]\n",
      "step 75\t: [1.32347235 2.06644221 3.17684949]\n",
      "step 76\t: [1.32725129 2.07748    3.1973306 ]\n",
      "step 77\t: [1.33101947 2.08846847 3.21770189]\n",
      "step 78\t: [1.33477699 2.09940828 3.23796513]\n",
      "step 79\t: [1.33852393 2.11030009 3.25812201]\n",
      "step 80\t: [1.34226039 2.12114454 3.27817422]\n",
      "step 81\t: [1.34598644 2.13194225 3.29812336]\n",
      "step 82\t: [1.34970219 2.14269383 3.31797103]\n",
      "step 83\t: [1.35340771 2.15339988 3.33771875]\n",
      "step 84\t: [1.35710309 2.16406099 3.35736803]\n",
      "step 85\t: [1.3607884  2.17467772 3.37692032]\n",
      "step 86\t: [1.36446374 2.18525063 3.39637707]\n",
      "step 87\t: [1.36812918 2.19578027 3.41573965]\n",
      "step 88\t: [1.37178481 2.20626718 3.43500943]\n",
      "step 89\t: [1.37543069 2.21671187 3.45418772]\n",
      "step 90\t: [1.37906692 2.22711487 3.47327583]\n",
      "step 91\t: [1.38269356 2.23747668 3.49227502]\n",
      "step 92\t: [1.38631069 2.24779779 3.51118651]\n",
      "step 93\t: [1.38991838 2.25807868 3.53001152]\n",
      "step 94\t: [1.39351671 2.26831983 3.54875123]\n",
      "step 95\t: [1.39710575 2.27852169 3.56740677]\n",
      "step 96\t: [1.40068558 2.28868473 3.58597928]\n",
      "step 97\t: [1.40425626 2.29880939 3.60446985]\n",
      "step 98\t: [1.40781786 2.30889611 3.62287957]\n",
      "step 99\t: [1.41137046 2.31894532 3.64120948]\n",
      "x_min=[1.41491411 2.32895743 3.65946061]\n"
     ]
    }
   ],
   "source": [
    "def fun44(x):\n",
    "    return -0.1*np.log(x[0]) -0.3 * np.log(x[1]) - 0.6 * np.log(x[2])\n",
    "\n",
    "gamma = 0.05\n",
    "eps = 1e-6\n",
    "x0 = [1, 1, 1]\n",
    "dx = 0.001  # finte step for derivative computation\n",
    "iters = [x0]\n",
    "\n",
    "c=0\n",
    "while True and c!=100:\n",
    "    print(f\"step {c}\\t: {x0}\")\n",
    "    c += 1\n",
    "    x1 = x0 - gamma * ngrad_f(x0, eps, fun44)  # exact dfun is substituted with appoximate ndfun\n",
    "    iters.append(x1)  \n",
    "    if np.sum(np.abs(x1-x0))<eps:\n",
    "        break\n",
    "    x0 = x1\n",
    "\n",
    "xmin_nd = x1\n",
    "# this function will never reach min, so I added stop counter\n",
    "print(f\"x_min={xmin_nd}\")"
   ]
  },
  {
   "cell_type": "code",
   "execution_count": null,
   "id": "0f460149",
   "metadata": {},
   "outputs": [],
   "source": []
  },
  {
   "cell_type": "code",
   "execution_count": null,
   "id": "4a96f8d2",
   "metadata": {},
   "outputs": [],
   "source": []
  }
 ],
 "metadata": {
  "kernelspec": {
   "display_name": "Python 3 (ipykernel)",
   "language": "python",
   "name": "python3"
  },
  "language_info": {
   "codemirror_mode": {
    "name": "ipython",
    "version": 3
   },
   "file_extension": ".py",
   "mimetype": "text/x-python",
   "name": "python",
   "nbconvert_exporter": "python",
   "pygments_lexer": "ipython3",
   "version": "3.8.10"
  }
 },
 "nbformat": 4,
 "nbformat_minor": 5
}
