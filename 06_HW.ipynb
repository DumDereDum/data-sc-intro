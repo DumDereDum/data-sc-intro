{
 "cells": [
  {
   "cell_type": "code",
   "execution_count": 38,
   "id": "9ef9a2bf",
   "metadata": {},
   "outputs": [
    {
     "name": "stdout",
     "output_type": "stream",
     "text": [
      "Requirement already satisfied: numpy in /home/usr/hse/magolego/venv/lib/python3.8/site-packages (1.24.2)\n",
      "Requirement already satisfied: pandas in /home/usr/hse/magolego/venv/lib/python3.8/site-packages (1.5.3)\n",
      "Requirement already satisfied: matplotlib in /home/usr/hse/magolego/venv/lib/python3.8/site-packages (3.7.1)\n",
      "Requirement already satisfied: scipy in /home/usr/hse/magolego/venv/lib/python3.8/site-packages (1.10.1)\n",
      "Requirement already satisfied: python-dateutil>=2.8.1 in /home/usr/hse/magolego/venv/lib/python3.8/site-packages (from pandas) (2.8.2)\n",
      "Requirement already satisfied: pytz>=2020.1 in /home/usr/hse/magolego/venv/lib/python3.8/site-packages (from pandas) (2022.7.1)\n",
      "Requirement already satisfied: cycler>=0.10 in /home/usr/hse/magolego/venv/lib/python3.8/site-packages (from matplotlib) (0.11.0)\n",
      "Requirement already satisfied: contourpy>=1.0.1 in /home/usr/hse/magolego/venv/lib/python3.8/site-packages (from matplotlib) (1.0.7)\n",
      "Requirement already satisfied: packaging>=20.0 in /home/usr/hse/magolego/venv/lib/python3.8/site-packages (from matplotlib) (23.0)\n",
      "Requirement already satisfied: kiwisolver>=1.0.1 in /home/usr/hse/magolego/venv/lib/python3.8/site-packages (from matplotlib) (1.4.4)\n",
      "Requirement already satisfied: pillow>=6.2.0 in /home/usr/hse/magolego/venv/lib/python3.8/site-packages (from matplotlib) (9.4.0)\n",
      "Requirement already satisfied: pyparsing>=2.3.1 in /home/usr/hse/magolego/venv/lib/python3.8/site-packages (from matplotlib) (3.0.9)\n",
      "Requirement already satisfied: importlib-resources>=3.2.0; python_version < \"3.10\" in /home/usr/hse/magolego/venv/lib/python3.8/site-packages (from matplotlib) (5.12.0)\n",
      "Requirement already satisfied: fonttools>=4.22.0 in /home/usr/hse/magolego/venv/lib/python3.8/site-packages (from matplotlib) (4.39.0)\n",
      "Requirement already satisfied: six>=1.5 in /home/usr/hse/magolego/venv/lib/python3.8/site-packages (from python-dateutil>=2.8.1->pandas) (1.16.0)\n",
      "Requirement already satisfied: zipp>=3.1.0; python_version < \"3.10\" in /home/usr/hse/magolego/venv/lib/python3.8/site-packages (from importlib-resources>=3.2.0; python_version < \"3.10\"->matplotlib) (3.15.0)\n"
     ]
    }
   ],
   "source": [
    "!pip install numpy pandas matplotlib scipy"
   ]
  },
  {
   "cell_type": "code",
   "execution_count": 39,
   "id": "9b6d83eb",
   "metadata": {},
   "outputs": [],
   "source": [
    "import matplotlib.pyplot as plt\n",
    "import numpy as np"
   ]
  },
  {
   "cell_type": "markdown",
   "id": "8c80e758",
   "metadata": {},
   "source": [
    "## Lesson 1"
   ]
  },
  {
   "cell_type": "code",
   "execution_count": 40,
   "id": "85a52934",
   "metadata": {},
   "outputs": [],
   "source": [
    "from scipy.special import erf\n",
    "from scipy.optimize import root_scalar"
   ]
  },
  {
   "cell_type": "code",
   "execution_count": 41,
   "id": "cd02dbda",
   "metadata": {},
   "outputs": [],
   "source": [
    "def norm_cdf(x, mu, sig):\n",
    "    \"\"\"Normal cumulative distribution function\"\"\"\n",
    "    return 0.5 * (1 + erf((x-mu)/(sig*np.sqrt(2))))"
   ]
  },
  {
   "cell_type": "markdown",
   "id": "78888652",
   "metadata": {},
   "source": [
    "1\\. Using Python functions defined above compute probability that a random variable obeyed the standard normal distribution fits the range \\[-1, 1\\]."
   ]
  },
  {
   "cell_type": "code",
   "execution_count": 42,
   "id": "d6512225",
   "metadata": {},
   "outputs": [
    {
     "data": {
      "text/plain": [
       "0.9544997361036416"
      ]
     },
     "execution_count": 42,
     "metadata": {},
     "output_type": "execute_result"
    }
   ],
   "source": [
    "norm_cdf(1, 0, 1/2) - norm_cdf(-1, 0, 1/2)"
   ]
  },
  {
   "cell_type": "markdown",
   "id": "7754291d",
   "metadata": {},
   "source": [
    "2\\. Using Python functions defined above compute such $X$ that a random variable $x$ obeyed the standard normal distribution is $x<X$ with the probability $0.25$."
   ]
  },
  {
   "cell_type": "code",
   "execution_count": 43,
   "id": "f5237d94",
   "metadata": {},
   "outputs": [
    {
     "data": {
      "text/plain": [
       "0.691462461274013"
      ]
     },
     "execution_count": 43,
     "metadata": {},
     "output_type": "execute_result"
    }
   ],
   "source": [
    "norm_cdf(0.25, 0, 1/2)"
   ]
  },
  {
   "cell_type": "code",
   "execution_count": null,
   "id": "96f020e5",
   "metadata": {},
   "outputs": [],
   "source": []
  },
  {
   "cell_type": "markdown",
   "id": "df6b91c8",
   "metadata": {},
   "source": [
    "## Lesson 2"
   ]
  },
  {
   "cell_type": "markdown",
   "id": "8a3c3b93",
   "metadata": {},
   "source": [
    "5\\. Compute the mean and 95% confidence interval for $400$ heads in a series of $1000$ tossing of a coin."
   ]
  },
  {
   "cell_type": "code",
   "execution_count": 44,
   "id": "4fb3b380",
   "metadata": {},
   "outputs": [],
   "source": [
    "import numpy as np\n",
    "\n",
    "def conf_interv_95(N, P):\n",
    "    \"\"\"Compute confidential interval.\n",
    "    \"\"\"\n",
    "    return 1.96 * np.sqrt((P * (1 - P)) / N)"
   ]
  },
  {
   "cell_type": "code",
   "execution_count": 45,
   "id": "e857420f",
   "metadata": {},
   "outputs": [
    {
     "name": "stdout",
     "output_type": "stream",
     "text": [
      "Estimated probability is P=0.4±0.0304\n",
      "Confidential interval is [0.3696 - 0.4304]\n"
     ]
    }
   ],
   "source": [
    "# This is our result: number of heads after N tossing\n",
    "x = 400\n",
    "\n",
    "N = 1000\n",
    "\n",
    "P_hat = x / N\n",
    "ci = conf_interv_95(N, P_hat)\n",
    "print(f'Estimated probability is P={P_hat}±{ci:6.4f}')\n",
    "print(f'Confidential interval is [{(P_hat - ci):6.4f} - {(P_hat + ci):6.4f}]')"
   ]
  },
  {
   "cell_type": "markdown",
   "id": "85e556e4",
   "metadata": {},
   "source": [
    "7\\. Website with the advertisement A visited $N_a=1550$ times and $n_a=20$ visitors clicked the banner. For the same website with the advertisement B these numbers are $N_b=1700$ and $n_b=25$. Perform the A/B test with the significance $\\alpha=0.05$ and decide which advertisement works better. "
   ]
  },
  {
   "cell_type": "code",
   "execution_count": 46,
   "id": "79b4d594",
   "metadata": {},
   "outputs": [
    {
     "name": "stdout",
     "output_type": "stream",
     "text": [
      "ca=0.0129, cb=0.0147, cab=0.0018, p-value=0.6595146457081529\n",
      "significance = 0.3404853542918471\n"
     ]
    }
   ],
   "source": [
    "import numpy as np\n",
    "from scipy.special import erf\n",
    "\n",
    "# The website A\n",
    "Na = 1550\n",
    "na = 20\n",
    "\n",
    "# The website B\n",
    "Nb = 1700\n",
    "nb = 25\n",
    "\n",
    "# Convertion ratios\n",
    "ca = na / Na\n",
    "cb = nb / Nb\n",
    "\n",
    "cab = cb - ca\n",
    "\n",
    "def sigma_test(N, c):\n",
    "    \"\"\"Standard deviation for c\"\"\"\n",
    "    return np.sqrt((c * (1 - c)) / N)\n",
    "\n",
    "def norm_cdf(x, mu, sig):\n",
    "    \"\"\"Normal cumulative distribution function\"\"\"\n",
    "    return 0.5 * (1 + erf((x-mu)/(sig*np.sqrt(2))))\n",
    "\n",
    "sig_a = sigma_test(Na, ca)\n",
    "sig_b = sigma_test(Nb, cb)\n",
    "sig_ab = np.sqrt(sig_a**2 + sig_b**2)\n",
    "mu_ab = 0  # this accirding to our null hypothesis\n",
    "\n",
    "p = 2*norm_cdf(cab, mu=mu_ab, sig=sig_ab) if cab < 0 else 2*(1 - norm_cdf(cab, mu=mu_ab, sig=sig_ab))\n",
    "\n",
    "print(f\"ca={ca:6.4f}, cb={cb:6.4f}, cab={cab:6.4f}, p-value={p}\")\n",
    "\n",
    "print(f'significance = {1-p}')\n",
    "#0.34 > 0.05, so B better than A"
   ]
  },
  {
   "cell_type": "code",
   "execution_count": null,
   "id": "e9e0fb4d",
   "metadata": {},
   "outputs": [],
   "source": []
  },
  {
   "cell_type": "code",
   "execution_count": null,
   "id": "7a57fbf8",
   "metadata": {},
   "outputs": [],
   "source": []
  },
  {
   "cell_type": "code",
   "execution_count": null,
   "id": "e83990bd",
   "metadata": {},
   "outputs": [],
   "source": []
  }
 ],
 "metadata": {
  "kernelspec": {
   "display_name": "Python 3 (ipykernel)",
   "language": "python",
   "name": "python3"
  },
  "language_info": {
   "codemirror_mode": {
    "name": "ipython",
    "version": 3
   },
   "file_extension": ".py",
   "mimetype": "text/x-python",
   "name": "python",
   "nbconvert_exporter": "python",
   "pygments_lexer": "ipython3",
   "version": "3.8.10"
  }
 },
 "nbformat": 4,
 "nbformat_minor": 5
}
